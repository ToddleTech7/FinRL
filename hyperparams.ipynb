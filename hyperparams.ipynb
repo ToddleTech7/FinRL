{
 "cells": [
  {
   "cell_type": "code",
   "execution_count": 3,
   "metadata": {},
   "outputs": [],
   "source": [
    "import pandas as pd\n",
    "import numpy as np\n",
    "import datetime\n",
    "import yfinance as yf\n",
    "\n",
    "from finrl.meta.preprocessor.yahoodownloader import YahooDownloader\n",
    "from finrl.meta.preprocessor.preprocessors import FeatureEngineer, data_split\n",
    "from finrl import config_tickers\n",
    "from finrl.config import INDICATORS\n",
    "import optuna\n",
    "\n",
    "import itertools"
   ]
  },
  {
   "cell_type": "code",
   "execution_count": 4,
   "metadata": {},
   "outputs": [],
   "source": [
    "# TRAIN_START_DATE = '2025-01-23'\n",
    "# TRAIN_END_DATE = '2025-02-13'\n",
    "# TRADE_START_DATE = '2025-02-14'\n",
    "# TRADE_END_DATE = '2025-03-10'"
   ]
  },
  {
   "cell_type": "code",
   "execution_count": 5,
   "metadata": {},
   "outputs": [],
   "source": [
    "total_time_window = 59\n",
    "today = datetime.datetime.today()\n",
    "end_date = today.strftime('%Y-%m-%d')\n",
    "start_date = (today - datetime.timedelta(days=total_time_window)).strftime('%Y-%m-%d')"
   ]
  },
  {
   "cell_type": "code",
   "execution_count": 17,
   "metadata": {},
   "outputs": [
    {
     "name": "stderr",
     "output_type": "stream",
     "text": [
      "[*********************100%***********************]  1 of 1 completed\n"
     ]
    }
   ],
   "source": [
    "from datetime import datetime, timedelta\n",
    "df_aapl_raw = yf.download(tickers = \"aapl\", start=start_date, end=end_date, interval='15m')\n",
    "# end_date = datetime.today().strftime('%Y-%m-%d')\n",
    "# start_date = (datetime.today() - timedelta(days=20)).strftime('%Y-%m-%d')\n",
    "\n",
    "# df_aapl_raw = yf.download(tickers = \"aapl\", start=start_date, end=end_date, interval=\"15m\")"
   ]
  },
  {
   "cell_type": "code",
   "execution_count": 7,
   "metadata": {},
   "outputs": [
    {
     "name": "stdout",
     "output_type": "stream",
     "text": [
      "Price                           Close        High         Low        Open  \\\n",
      "Ticker                           AAPL        AAPL        AAPL        AAPL   \n",
      "Datetime                                                                    \n",
      "2025-01-27 14:30:00+00:00  226.720505  227.380005  224.000000  224.029999   \n",
      "2025-01-27 14:45:00+00:00  225.660004  227.699997  225.419998  226.750000   \n",
      "2025-01-27 15:00:00+00:00  225.190002  226.039993  224.820007  225.649994   \n",
      "2025-01-27 15:15:00+00:00  227.292297  227.292297  225.060104  225.195007   \n",
      "2025-01-27 15:30:00+00:00  227.880005  228.587601  227.089996  227.300003   \n",
      "\n",
      "Price                        Volume  \n",
      "Ticker                         AAPL  \n",
      "Datetime                             \n",
      "2025-01-27 14:30:00+00:00  13677489  \n",
      "2025-01-27 14:45:00+00:00   4353866  \n",
      "2025-01-27 15:00:00+00:00   2642756  \n",
      "2025-01-27 15:15:00+00:00   2221605  \n",
      "2025-01-27 15:30:00+00:00   3110234  \n"
     ]
    }
   ],
   "source": [
    "print(df_aapl_raw.head())"
   ]
  },
  {
   "cell_type": "code",
   "execution_count": 8,
   "metadata": {},
   "outputs": [
    {
     "name": "stdout",
     "output_type": "stream",
     "text": [
      "Index(['close', 'high', 'low', 'open', 'volume'], dtype='object', name='Price')\n",
      "Price                           close        high         low        open  \\\n",
      "Datetime                                                                    \n",
      "2025-01-27 14:30:00+00:00  226.720505  227.380005  224.000000  224.029999   \n",
      "2025-01-27 14:45:00+00:00  225.660004  227.699997  225.419998  226.750000   \n",
      "2025-01-27 15:00:00+00:00  225.190002  226.039993  224.820007  225.649994   \n",
      "2025-01-27 15:15:00+00:00  227.292297  227.292297  225.060104  225.195007   \n",
      "2025-01-27 15:30:00+00:00  227.880005  228.587601  227.089996  227.300003   \n",
      "\n",
      "Price                        volume  \n",
      "Datetime                             \n",
      "2025-01-27 14:30:00+00:00  13677489  \n",
      "2025-01-27 14:45:00+00:00   4353866  \n",
      "2025-01-27 15:00:00+00:00   2642756  \n",
      "2025-01-27 15:15:00+00:00   2221605  \n",
      "2025-01-27 15:30:00+00:00   3110234  \n"
     ]
    }
   ],
   "source": [
    "# 如果列是 MultiIndex，可以使用 droplevel 来去掉第二层（'AAPL'）\n",
    "if isinstance(df_aapl_raw.columns, pd.MultiIndex):\n",
    "    # 去掉第二层（'AAPL'），只保留第一个级别\n",
    "    df_aapl_raw.columns = df_aapl_raw.columns.droplevel(1)\n",
    "\n",
    "df_aapl_raw.columns = df_aapl_raw.columns.str.lower()\n",
    "# 显示处理后的结果\n",
    "print(df_aapl_raw.columns)\n",
    "print(df_aapl_raw.head())"
   ]
  },
  {
   "cell_type": "code",
   "execution_count": 9,
   "metadata": {},
   "outputs": [
    {
     "name": "stdout",
     "output_type": "stream",
     "text": [
      "Index(['Datetime', 'close', 'high', 'low', 'open', 'volume'], dtype='object', name='Price')\n",
      "Index(['date', 'close', 'high', 'low', 'open', 'volume', 'tic', 'day',\n",
      "       'adjcp'],\n",
      "      dtype='object', name='Price')\n"
     ]
    }
   ],
   "source": [
    "df_aapl = df_aapl_raw.reset_index()  # 保留索引\n",
    "print(df_aapl.columns) \n",
    "df_aapl['datetime'] = df_aapl['Datetime']\n",
    "# df_aapl['date'] = df_aapl['Datetime'].dt.date\n",
    "df_aapl['date'] = pd.to_datetime(df_aapl['Datetime'])\n",
    "df_aapl['tic'] = \"aapl\"\n",
    "df_aapl['day'] = df_aapl['Datetime'].dt.dayofweek \n",
    "#remove datetime\n",
    "df_aapl = df_aapl.drop(['Datetime'], axis=1)\n",
    "df_aapl = df_aapl[['date', 'close', 'high', 'low', 'open', 'volume', 'tic', 'day']]\n",
    "if 'adjcp' not in df_aapl.columns:\n",
    "    df_aapl['adjcp'] = df_aapl['close']\n",
    "    # df_aapl['adjhigh'] = df_aapl['high']\n",
    "    # df_aapl['adjlow'] = df_aapl['low']\n",
    "    # df_aapl['adjopen'] = df_aapl['open']\n",
    "print(df_aapl.columns)"
   ]
  },
  {
   "cell_type": "code",
   "execution_count": 10,
   "metadata": {},
   "outputs": [
    {
     "name": "stdout",
     "output_type": "stream",
     "text": [
      "datetime64[ns, UTC]\n"
     ]
    }
   ],
   "source": [
    "print(df_aapl[\"date\"].dtype) "
   ]
  },
  {
   "cell_type": "code",
   "execution_count": 11,
   "metadata": {},
   "outputs": [
    {
     "name": "stdout",
     "output_type": "stream",
     "text": [
      "Price                      date       close        high         low  \\\n",
      "0     2025-01-27 14:30:00+00:00  226.720505  227.380005  224.000000   \n",
      "1     2025-01-27 14:45:00+00:00  225.660004  227.699997  225.419998   \n",
      "2     2025-01-27 15:00:00+00:00  225.190002  226.039993  224.820007   \n",
      "3     2025-01-27 15:15:00+00:00  227.292297  227.292297  225.060104   \n",
      "4     2025-01-27 15:30:00+00:00  227.880005  228.587601  227.089996   \n",
      "\n",
      "Price        open    volume   tic  day       adjcp  \n",
      "0      224.029999  13677489  aapl    0  226.720505  \n",
      "1      226.750000   4353866  aapl    0  225.660004  \n",
      "2      225.649994   2642756  aapl    0  225.190002  \n",
      "3      225.195007   2221605  aapl    0  227.292297  \n",
      "4      227.300003   3110234  aapl    0  227.880005  \n"
     ]
    }
   ],
   "source": [
    "print(df_aapl.head())"
   ]
  },
  {
   "cell_type": "code",
   "execution_count": 12,
   "metadata": {},
   "outputs": [],
   "source": [
    "INDICATORS_15M = [\n",
    "    \"boll_ub\",\n",
    "    \"boll_lb\",\n",
    "    \"rsi_30\",\n",
    "    \"cci_30\",\n",
    "    \"dx_30\",\n",
    "    \"close_30_sma\",\n",
    "\n",
    "]"
   ]
  },
  {
   "cell_type": "code",
   "execution_count": 13,
   "metadata": {},
   "outputs": [
    {
     "name": "stdout",
     "output_type": "stream",
     "text": [
      "Successfully added technical indicators\n"
     ]
    }
   ],
   "source": [
    "\n",
    "fe = FeatureEngineer(use_technical_indicator=True,\n",
    "                     tech_indicator_list = INDICATORS_15M,\n",
    "                     use_vix=False,\n",
    "                     use_turbulence=False,\n",
    "                     user_defined_feature = False)\n",
    "\n",
    "processed = fe.preprocess_data(df_aapl)\n"
   ]
  },
  {
   "cell_type": "code",
   "execution_count": 14,
   "metadata": {},
   "outputs": [],
   "source": [
    "# Ensure that processed['date'] is a datetime column with full timestamp:\n",
    "processed['date'] = pd.to_datetime(processed['date'])\n",
    "\n",
    "# Create a date_range with 5-minute frequency\n",
    "list_dates = pd.date_range(\n",
    "    start=processed['date'].min(), \n",
    "    end=processed['date'].max(), \n",
    "    freq='15min'\n",
    ")\n",
    "\n",
    "list_ticker = processed[\"tic\"].unique().tolist()\n",
    "combination = list(itertools.product(list_dates, list_ticker))\n",
    "\n",
    "processed_full = pd.DataFrame(combination, columns=[\"date\", \"tic\"])\n",
    "# Merge on both \"date\" and \"tic\" (here the 'date' in processed has full time info)\n",
    "processed_full = processed_full.merge(processed, on=[\"date\", \"tic\"], how=\"left\")\n",
    "processed_full.sort_values([\"date\", \"tic\"], inplace=True)\n",
    "processed_full.reset_index(drop=True, inplace=True)\n",
    "\n",
    "# Fill missing values (you can use forward-fill or another method)\n",
    "processed_full = processed_full.ffill()  # or .bfill() if appropriate"
   ]
  },
  {
   "cell_type": "code",
   "execution_count": 15,
   "metadata": {},
   "outputs": [
    {
     "data": {
      "text/html": [
       "<div>\n",
       "<style scoped>\n",
       "    .dataframe tbody tr th:only-of-type {\n",
       "        vertical-align: middle;\n",
       "    }\n",
       "\n",
       "    .dataframe tbody tr th {\n",
       "        vertical-align: top;\n",
       "    }\n",
       "\n",
       "    .dataframe thead th {\n",
       "        text-align: right;\n",
       "    }\n",
       "</style>\n",
       "<table border=\"1\" class=\"dataframe\">\n",
       "  <thead>\n",
       "    <tr style=\"text-align: right;\">\n",
       "      <th></th>\n",
       "      <th>date</th>\n",
       "      <th>tic</th>\n",
       "      <th>close</th>\n",
       "      <th>high</th>\n",
       "      <th>low</th>\n",
       "      <th>open</th>\n",
       "      <th>volume</th>\n",
       "      <th>day</th>\n",
       "      <th>adjcp</th>\n",
       "      <th>boll_ub</th>\n",
       "      <th>boll_lb</th>\n",
       "      <th>rsi_30</th>\n",
       "      <th>cci_30</th>\n",
       "      <th>dx_30</th>\n",
       "      <th>close_30_sma</th>\n",
       "    </tr>\n",
       "  </thead>\n",
       "  <tbody>\n",
       "    <tr>\n",
       "      <th>0</th>\n",
       "      <td>2025-01-27 14:30:00+00:00</td>\n",
       "      <td>aapl</td>\n",
       "      <td>226.720505</td>\n",
       "      <td>227.380005</td>\n",
       "      <td>224.000000</td>\n",
       "      <td>224.029999</td>\n",
       "      <td>13677489.0</td>\n",
       "      <td>0.0</td>\n",
       "      <td>226.720505</td>\n",
       "      <td>227.690029</td>\n",
       "      <td>224.690479</td>\n",
       "      <td>0.000000</td>\n",
       "      <td>66.666667</td>\n",
       "      <td>100.000000</td>\n",
       "      <td>226.720505</td>\n",
       "    </tr>\n",
       "    <tr>\n",
       "      <th>1</th>\n",
       "      <td>2025-01-27 14:45:00+00:00</td>\n",
       "      <td>aapl</td>\n",
       "      <td>225.660004</td>\n",
       "      <td>227.699997</td>\n",
       "      <td>225.419998</td>\n",
       "      <td>226.750000</td>\n",
       "      <td>4353866.0</td>\n",
       "      <td>0.0</td>\n",
       "      <td>225.660004</td>\n",
       "      <td>227.690029</td>\n",
       "      <td>224.690479</td>\n",
       "      <td>0.000000</td>\n",
       "      <td>66.666667</td>\n",
       "      <td>100.000000</td>\n",
       "      <td>226.190254</td>\n",
       "    </tr>\n",
       "    <tr>\n",
       "      <th>2</th>\n",
       "      <td>2025-01-27 15:00:00+00:00</td>\n",
       "      <td>aapl</td>\n",
       "      <td>225.190002</td>\n",
       "      <td>226.039993</td>\n",
       "      <td>224.820007</td>\n",
       "      <td>225.649994</td>\n",
       "      <td>2642756.0</td>\n",
       "      <td>0.0</td>\n",
       "      <td>225.190002</td>\n",
       "      <td>227.424851</td>\n",
       "      <td>224.288823</td>\n",
       "      <td>0.000000</td>\n",
       "      <td>-100.000000</td>\n",
       "      <td>33.429405</td>\n",
       "      <td>225.856837</td>\n",
       "    </tr>\n",
       "    <tr>\n",
       "      <th>3</th>\n",
       "      <td>2025-01-27 15:15:00+00:00</td>\n",
       "      <td>aapl</td>\n",
       "      <td>227.292297</td>\n",
       "      <td>227.292297</td>\n",
       "      <td>225.060104</td>\n",
       "      <td>225.195007</td>\n",
       "      <td>2221605.0</td>\n",
       "      <td>0.0</td>\n",
       "      <td>227.292297</td>\n",
       "      <td>228.139152</td>\n",
       "      <td>224.292253</td>\n",
       "      <td>59.259491</td>\n",
       "      <td>93.641019</td>\n",
       "      <td>46.381710</td>\n",
       "      <td>226.215702</td>\n",
       "    </tr>\n",
       "    <tr>\n",
       "      <th>4</th>\n",
       "      <td>2025-01-27 15:30:00+00:00</td>\n",
       "      <td>aapl</td>\n",
       "      <td>227.880005</td>\n",
       "      <td>228.587601</td>\n",
       "      <td>227.089996</td>\n",
       "      <td>227.300003</td>\n",
       "      <td>3110234.0</td>\n",
       "      <td>0.0</td>\n",
       "      <td>227.880005</td>\n",
       "      <td>228.782543</td>\n",
       "      <td>224.314583</td>\n",
       "      <td>65.219942</td>\n",
       "      <td>151.992662</td>\n",
       "      <td>67.726246</td>\n",
       "      <td>226.548563</td>\n",
       "    </tr>\n",
       "    <tr>\n",
       "      <th>...</th>\n",
       "      <td>...</td>\n",
       "      <td>...</td>\n",
       "      <td>...</td>\n",
       "      <td>...</td>\n",
       "      <td>...</td>\n",
       "      <td>...</td>\n",
       "      <td>...</td>\n",
       "      <td>...</td>\n",
       "      <td>...</td>\n",
       "      <td>...</td>\n",
       "      <td>...</td>\n",
       "      <td>...</td>\n",
       "      <td>...</td>\n",
       "      <td>...</td>\n",
       "      <td>...</td>\n",
       "    </tr>\n",
       "    <tr>\n",
       "      <th>95</th>\n",
       "      <td>2025-01-28 14:15:00+00:00</td>\n",
       "      <td>aapl</td>\n",
       "      <td>229.940002</td>\n",
       "      <td>230.919998</td>\n",
       "      <td>228.479996</td>\n",
       "      <td>230.869995</td>\n",
       "      <td>8415555.0</td>\n",
       "      <td>0.0</td>\n",
       "      <td>229.940002</td>\n",
       "      <td>232.674018</td>\n",
       "      <td>228.055174</td>\n",
       "      <td>57.136811</td>\n",
       "      <td>13.524515</td>\n",
       "      <td>11.825563</td>\n",
       "      <td>229.531720</td>\n",
       "    </tr>\n",
       "    <tr>\n",
       "      <th>96</th>\n",
       "      <td>2025-01-28 14:30:00+00:00</td>\n",
       "      <td>aapl</td>\n",
       "      <td>235.029999</td>\n",
       "      <td>235.399994</td>\n",
       "      <td>230.880005</td>\n",
       "      <td>230.880005</td>\n",
       "      <td>9883384.0</td>\n",
       "      <td>1.0</td>\n",
       "      <td>235.029999</td>\n",
       "      <td>233.559419</td>\n",
       "      <td>227.887772</td>\n",
       "      <td>72.156574</td>\n",
       "      <td>164.373433</td>\n",
       "      <td>34.866651</td>\n",
       "      <td>229.735360</td>\n",
       "    </tr>\n",
       "    <tr>\n",
       "      <th>97</th>\n",
       "      <td>2025-01-28 14:45:00+00:00</td>\n",
       "      <td>aapl</td>\n",
       "      <td>234.710007</td>\n",
       "      <td>235.589996</td>\n",
       "      <td>233.880005</td>\n",
       "      <td>235.015594</td>\n",
       "      <td>4141161.0</td>\n",
       "      <td>1.0</td>\n",
       "      <td>234.710007</td>\n",
       "      <td>234.186229</td>\n",
       "      <td>227.882582</td>\n",
       "      <td>70.548843</td>\n",
       "      <td>184.952635</td>\n",
       "      <td>36.076714</td>\n",
       "      <td>229.913026</td>\n",
       "    </tr>\n",
       "    <tr>\n",
       "      <th>98</th>\n",
       "      <td>2025-01-28 15:00:00+00:00</td>\n",
       "      <td>aapl</td>\n",
       "      <td>236.559998</td>\n",
       "      <td>236.850006</td>\n",
       "      <td>234.380005</td>\n",
       "      <td>234.669998</td>\n",
       "      <td>3627421.0</td>\n",
       "      <td>1.0</td>\n",
       "      <td>236.559998</td>\n",
       "      <td>235.309076</td>\n",
       "      <td>227.455734</td>\n",
       "      <td>74.011943</td>\n",
       "      <td>207.184084</td>\n",
       "      <td>43.515651</td>\n",
       "      <td>230.142232</td>\n",
       "    </tr>\n",
       "    <tr>\n",
       "      <th>99</th>\n",
       "      <td>2025-01-28 15:15:00+00:00</td>\n",
       "      <td>aapl</td>\n",
       "      <td>237.639999</td>\n",
       "      <td>237.789993</td>\n",
       "      <td>236.259995</td>\n",
       "      <td>236.582504</td>\n",
       "      <td>3461755.0</td>\n",
       "      <td>1.0</td>\n",
       "      <td>237.639999</td>\n",
       "      <td>236.419923</td>\n",
       "      <td>227.264386</td>\n",
       "      <td>75.735079</td>\n",
       "      <td>226.122379</td>\n",
       "      <td>48.312429</td>\n",
       "      <td>230.392157</td>\n",
       "    </tr>\n",
       "  </tbody>\n",
       "</table>\n",
       "<p>100 rows × 15 columns</p>\n",
       "</div>"
      ],
      "text/plain": [
       "                        date   tic       close        high         low  \\\n",
       "0  2025-01-27 14:30:00+00:00  aapl  226.720505  227.380005  224.000000   \n",
       "1  2025-01-27 14:45:00+00:00  aapl  225.660004  227.699997  225.419998   \n",
       "2  2025-01-27 15:00:00+00:00  aapl  225.190002  226.039993  224.820007   \n",
       "3  2025-01-27 15:15:00+00:00  aapl  227.292297  227.292297  225.060104   \n",
       "4  2025-01-27 15:30:00+00:00  aapl  227.880005  228.587601  227.089996   \n",
       "..                       ...   ...         ...         ...         ...   \n",
       "95 2025-01-28 14:15:00+00:00  aapl  229.940002  230.919998  228.479996   \n",
       "96 2025-01-28 14:30:00+00:00  aapl  235.029999  235.399994  230.880005   \n",
       "97 2025-01-28 14:45:00+00:00  aapl  234.710007  235.589996  233.880005   \n",
       "98 2025-01-28 15:00:00+00:00  aapl  236.559998  236.850006  234.380005   \n",
       "99 2025-01-28 15:15:00+00:00  aapl  237.639999  237.789993  236.259995   \n",
       "\n",
       "          open      volume  day       adjcp     boll_ub     boll_lb  \\\n",
       "0   224.029999  13677489.0  0.0  226.720505  227.690029  224.690479   \n",
       "1   226.750000   4353866.0  0.0  225.660004  227.690029  224.690479   \n",
       "2   225.649994   2642756.0  0.0  225.190002  227.424851  224.288823   \n",
       "3   225.195007   2221605.0  0.0  227.292297  228.139152  224.292253   \n",
       "4   227.300003   3110234.0  0.0  227.880005  228.782543  224.314583   \n",
       "..         ...         ...  ...         ...         ...         ...   \n",
       "95  230.869995   8415555.0  0.0  229.940002  232.674018  228.055174   \n",
       "96  230.880005   9883384.0  1.0  235.029999  233.559419  227.887772   \n",
       "97  235.015594   4141161.0  1.0  234.710007  234.186229  227.882582   \n",
       "98  234.669998   3627421.0  1.0  236.559998  235.309076  227.455734   \n",
       "99  236.582504   3461755.0  1.0  237.639999  236.419923  227.264386   \n",
       "\n",
       "       rsi_30      cci_30       dx_30  close_30_sma  \n",
       "0    0.000000   66.666667  100.000000    226.720505  \n",
       "1    0.000000   66.666667  100.000000    226.190254  \n",
       "2    0.000000 -100.000000   33.429405    225.856837  \n",
       "3   59.259491   93.641019   46.381710    226.215702  \n",
       "4   65.219942  151.992662   67.726246    226.548563  \n",
       "..        ...         ...         ...           ...  \n",
       "95  57.136811   13.524515   11.825563    229.531720  \n",
       "96  72.156574  164.373433   34.866651    229.735360  \n",
       "97  70.548843  184.952635   36.076714    229.913026  \n",
       "98  74.011943  207.184084   43.515651    230.142232  \n",
       "99  75.735079  226.122379   48.312429    230.392157  \n",
       "\n",
       "[100 rows x 15 columns]"
      ]
     },
     "execution_count": 15,
     "metadata": {},
     "output_type": "execute_result"
    }
   ],
   "source": [
    "processed_full.head(100)"
   ]
  },
  {
   "cell_type": "code",
   "execution_count": 18,
   "metadata": {},
   "outputs": [
    {
     "name": "stdout",
     "output_type": "stream",
     "text": [
      "4320\n",
      "1173\n"
     ]
    }
   ],
   "source": [
    "TRAIN_START_DATE = processed_full[\"date\"].min() \n",
    "TRAIN_END_DATE = pd.to_datetime(TRAIN_START_DATE) + pd.Timedelta(days=total_time_window - 14)\n",
    "\n",
    "TRADE_START_DATE = TRAIN_END_DATE  \n",
    "TRADE_END_DATE = processed_full[\"date\"].max() \n",
    "\n",
    "train = data_split(processed_full, TRAIN_START_DATE,TRAIN_END_DATE)\n",
    "trade = data_split(processed_full, TRADE_START_DATE,TRADE_END_DATE)\n",
    "print(len(train))\n",
    "print(len(trade))"
   ]
  },
  {
   "cell_type": "code",
   "execution_count": null,
   "metadata": {},
   "outputs": [],
   "source": [
    "# train.to_csv('train_data.csv')\n",
    "# trade.to_csv('trade_data.csv')"
   ]
  },
  {
   "cell_type": "code",
   "execution_count": 19,
   "metadata": {},
   "outputs": [],
   "source": [
    "from stable_baselines3 import A2C, DDPG, PPO, SAC, TD3\n",
    "\n",
    "from finrl.agents.stablebaselines3.models import DRLAgent\n",
    "from finrl.config import INDICATORS, TRAINED_MODEL_DIR\n",
    "from finrl.meta.env_stock_trading.env_stocktrading import StockTradingEnv\n",
    "from finrl.meta.preprocessor.yahoodownloader import YahooDownloader\n",
    "\n",
    "from stable_baselines3.common.logger import configure\n",
    "from finrl.agents.stablebaselines3.models import DRLAgent\n",
    "from finrl.main import check_and_make_directories\n",
    "from finrl.meta.env_stock_trading.env_stocktrading import StockTradingEnv\n",
    "\n",
    "RESULTS_DIR = 'results'\n",
    "TRAINED_MODEL_DIR = 'trained models'"
   ]
  },
  {
   "cell_type": "code",
   "execution_count": 20,
   "metadata": {},
   "outputs": [
    {
     "name": "stdout",
     "output_type": "stream",
     "text": [
      "Stock Dimension: 1, State Space: 9\n"
     ]
    }
   ],
   "source": [
    "stock_dimension = len(train.tic.unique())\n",
    "state_space = 1 + 2*stock_dimension + len(INDICATORS_15M)*stock_dimension\n",
    "print(f\"Stock Dimension: {stock_dimension}, State Space: {state_space}\")"
   ]
  },
  {
   "cell_type": "code",
   "execution_count": 21,
   "metadata": {},
   "outputs": [],
   "source": [
    "# if_using_a2c = True\n",
    "if_using_ddpg = True\n",
    "if_using_ppo = False\n",
    "if_using_td3 = False\n",
    "if_using_sac = False"
   ]
  },
  {
   "cell_type": "code",
   "execution_count": 22,
   "metadata": {},
   "outputs": [
    {
     "name": "stdout",
     "output_type": "stream",
     "text": [
      "Stock Dimension: 1, State Space: 9\n"
     ]
    }
   ],
   "source": [
    "stock_dimension = len(trade.tic.unique())\n",
    "state_space = 1 + 2 * stock_dimension + len(INDICATORS_15M) * stock_dimension\n",
    "print(f\"Stock Dimension: {stock_dimension}, State Space: {state_space}\")"
   ]
  },
  {
   "cell_type": "code",
   "execution_count": null,
   "metadata": {},
   "outputs": [],
   "source": [
    "buy_cost_list = sell_cost_list = [0.001] * stock_dimension\n",
    "num_stock_shares = [0] * stock_dimension\n",
    "\n",
    "env_kwargs = {\n",
    "    \"hmax\": 100,\n",
    "    \"initial_amount\": 1000000,\n",
    "    \"num_stock_shares\": num_stock_shares,\n",
    "    \"buy_cost_pct\": buy_cost_list,\n",
    "    \"sell_cost_pct\": sell_cost_list,\n",
    "    \"state_space\": state_space,\n",
    "    \"stock_dim\": stock_dimension,\n",
    "    \"tech_indicator_list\": INDICATORS_15M,\n",
    "    \"action_space\": stock_dimension,\n",
    "    \"reward_scaling\": 1e-4\n",
    "}"
   ]
  },
  {
   "cell_type": "code",
   "execution_count": null,
   "metadata": {},
   "outputs": [],
   "source": [
    "e_train_gym = StockTradingEnv(df=train, **env_kwargs)\n",
    "env_train, _ = e_train_gym.get_sb_env()\n",
    "e_trade_gym = StockTradingEnv(df=trade, **env_kwargs)"
   ]
  },
  {
   "cell_type": "markdown",
   "metadata": {},
   "source": [
    "simple params"
   ]
  },
  {
   "cell_type": "code",
   "execution_count": null,
   "metadata": {},
   "outputs": [],
   "source": [
    "def sample_ddpg_params(trial:optuna.Trial):\n",
    "  # Size of the replay buffer\n",
    "  buffer_size = trial.suggest_categorical(\"buffer_size\", [int(1e4), int(1e5), int(1e6)])\n",
    "  learning_rate = trial.suggest_loguniform(\"learning_rate\", 1e-5, 1e-2) #trial.suggest_loguniform(name, low, high)\n",
    "  batch_size = trial.suggest_categorical(\"batch_size\", [32, 64, 128, 256, 512])\n",
    "  \n",
    "  return {\"buffer_size\": buffer_size,\n",
    "          \"learning_rate\":learning_rate,\n",
    "          \"batch_size\":batch_size}"
   ]
  },
  {
   "cell_type": "markdown",
   "metadata": {},
   "source": [
    "all_ddpg params "
   ]
  },
  {
   "cell_type": "code",
   "execution_count": null,
   "metadata": {},
   "outputs": [],
   "source": [
    "# def sample_ddpg_params(trial: optuna.Trial):\n",
    "#     # 定义超参数采样空间\n",
    "#     buffer_size = trial.suggest_categorical(\"buffer_size\", [int(1e4), int(1e5), int(1e6)])\n",
    "#     learning_rate = trial.suggest_loguniform(\"learning_rate\", 1e-5, 1e-2)\n",
    "#     batch_size = trial.suggest_categorical(\"batch_size\", [32, 64, 128, 256, 512])\n",
    "#     gamma = trial.suggest_categorical(\"gamma\", [0.94, 0.96, 0.98])\n",
    "#     tau = trial.suggest_categorical(\"tau\", [0.08, 0.1, 0.12])\n",
    "#     train_freq = trial.suggest_categorical(\"train_freq\", [512, 768, 1024])\n",
    "#     noise_type = trial.suggest_categorical(\"noise_type\", [\"ornstein-uhlenbeck\", \"normal\", None])\n",
    "#     noise_std = trial.suggest_categorical(\"noise_std\", [0.1, 0.2, 0.3])\n",
    "#     net_arch = trial.suggest_categorical(\"net_arch\", [\"small\", \"medium\", \"big\"])\n",
    "\n",
    "#     # 定义网络结构\n",
    "#     net_arch = {\n",
    "#         \"small\": [64, 64],\n",
    "#         \"medium\": [256, 256],\n",
    "#         \"big\": [512, 512],\n",
    "#     }[net_arch]\n",
    "\n",
    "#     return {\n",
    "#         \"buffer_size\": buffer_size,\n",
    "#         \"learning_rate\": learning_rate,\n",
    "#         \"batch_size\": batch_size,\n",
    "#         \"gamma\": gamma,\n",
    "#         \"tau\": tau,\n",
    "#         \"train_freq\": train_freq,\n",
    "#         \"noise_type\": noise_type,\n",
    "#         \"noise_std\": noise_std,\n",
    "#         \"policy_kwargs\": dict(net_arch=net_arch)\n",
    "#     }"
   ]
  },
  {
   "cell_type": "code",
   "execution_count": null,
   "metadata": {},
   "outputs": [],
   "source": [
    "def objective(trial: optuna.Trial):\n",
    "    hyperparameters = sample_ddpg_params(trial)\n",
    "    agent = DRLAgent(env=env_train)\n",
    "    model_ddpg = agent.get_model(\"ddpg\", model_kwargs=hyperparameters)\n",
    "    trained_ddpg = agent.train_model(model=model_ddpg, tb_log_name=\"ddpg\", total_timesteps=50000)\n",
    "    df_account_value_ddpg, _ = DRLAgent.DRL_prediction(model=trained_ddpg, environment=e_trade_gym)\n",
    "    print(df_account_value_ddpg.head())  # 打印前几行数据\n",
    "    print(df_account_value_ddpg.dtypes)  # 打印数据类型\n",
    "    \n",
    "    # 提取账户价值列（假设列名为 \"account_value\"）\n",
    "    account_values = df_account_value_ddpg[\"account_value\"]\n",
    "    cumulative_return = (account_values.iloc[-1] - account_values.iloc[0]) / account_values.iloc[0]\n",
    "    # cumulative_return = (df_account_value_ddpg.iloc[-1] - df_account_value_ddpg.iloc[0]) / df_account_value_ddpg.iloc[0]\n",
    "    return cumulative_return"
   ]
  },
  {
   "cell_type": "code",
   "execution_count": null,
   "metadata": {},
   "outputs": [
    {
     "name": "stderr",
     "output_type": "stream",
     "text": [
      "[I 2025-03-21 20:51:43,380] A new study created in memory with name: no-name-9256fced-0eb4-436a-b137-4db29e5cd207\n",
      "/var/folders/kx/hqt1dvlj7_b21v_g8477jmnr0000gn/T/ipykernel_96293/2632089047.py:4: FutureWarning: suggest_loguniform has been deprecated in v3.0.0. This feature will be removed in v6.0.0. See https://github.com/optuna/optuna/releases/tag/v3.0.0. Use suggest_float(..., log=True) instead.\n",
      "  learning_rate = trial.suggest_loguniform(\"learning_rate\", 1e-5, 1e-2) #trial.suggest_loguniform(name, low, high)\n"
     ]
    },
    {
     "name": "stdout",
     "output_type": "stream",
     "text": [
      "{'buffer_size': 100000, 'learning_rate': 2.7535512350160737e-05, 'batch_size': 128}\n",
      "Using cpu device\n",
      "---------------------------------\n",
      "| time/              |          |\n",
      "|    episodes        | 4        |\n",
      "|    fps             | 344      |\n",
      "|    time_elapsed    | 22       |\n",
      "|    total_timesteps | 7832     |\n",
      "| train/             |          |\n",
      "|    actor_loss      | 6.44e+04 |\n",
      "|    critic_loss     | 2e+03    |\n",
      "|    learning_rate   | 2.75e-05 |\n",
      "|    n_updates       | 7731     |\n",
      "|    reward          | 0.0      |\n",
      "---------------------------------\n",
      "day: 1957, episode: 40\n",
      "begin_total_asset: 1000000.00\n",
      "end_total_asset: 1000000.00\n",
      "total_reward: 0.00\n",
      "total_cost: 0.00\n",
      "total_trades: 0\n",
      "=================================\n",
      "---------------------------------\n",
      "| time/              |          |\n",
      "|    episodes        | 8        |\n",
      "|    fps             | 345      |\n",
      "|    time_elapsed    | 45       |\n",
      "|    total_timesteps | 15664    |\n",
      "| train/             |          |\n",
      "|    actor_loss      | 4.23e+04 |\n",
      "|    critic_loss     | 2.57e+05 |\n",
      "|    learning_rate   | 2.75e-05 |\n",
      "|    n_updates       | 15563    |\n",
      "|    reward          | 0.0      |\n",
      "---------------------------------\n",
      "---------------------------------\n",
      "| time/              |          |\n",
      "|    episodes        | 12       |\n",
      "|    fps             | 346      |\n",
      "|    time_elapsed    | 67       |\n",
      "|    total_timesteps | 23496    |\n",
      "| train/             |          |\n",
      "|    actor_loss      | 2.82e+04 |\n",
      "|    critic_loss     | 2.87e+03 |\n",
      "|    learning_rate   | 2.75e-05 |\n",
      "|    n_updates       | 23395    |\n",
      "|    reward          | 0.0      |\n",
      "---------------------------------\n",
      "day: 1957, episode: 50\n",
      "begin_total_asset: 1000000.00\n",
      "end_total_asset: 1000000.00\n",
      "total_reward: 0.00\n",
      "total_cost: 0.00\n",
      "total_trades: 0\n",
      "=================================\n",
      "---------------------------------\n",
      "| time/              |          |\n",
      "|    episodes        | 16       |\n",
      "|    fps             | 346      |\n",
      "|    time_elapsed    | 90       |\n",
      "|    total_timesteps | 31328    |\n",
      "| train/             |          |\n",
      "|    actor_loss      | 1.89e+04 |\n",
      "|    critic_loss     | 257      |\n",
      "|    learning_rate   | 2.75e-05 |\n",
      "|    n_updates       | 31227    |\n",
      "|    reward          | 0.0      |\n",
      "---------------------------------\n",
      "---------------------------------\n",
      "| time/              |          |\n",
      "|    episodes        | 20       |\n",
      "|    fps             | 346      |\n",
      "|    time_elapsed    | 113      |\n",
      "|    total_timesteps | 39160    |\n",
      "| train/             |          |\n",
      "|    actor_loss      | 1.26e+04 |\n",
      "|    critic_loss     | 8.89e+04 |\n",
      "|    learning_rate   | 2.75e-05 |\n",
      "|    n_updates       | 39059    |\n",
      "|    reward          | 0.0      |\n",
      "---------------------------------\n",
      "---------------------------------\n",
      "| time/              |          |\n",
      "|    episodes        | 24       |\n",
      "|    fps             | 345      |\n",
      "|    time_elapsed    | 136      |\n",
      "|    total_timesteps | 46992    |\n",
      "| train/             |          |\n",
      "|    actor_loss      | 8.3e+03  |\n",
      "|    critic_loss     | 1.19e+04 |\n",
      "|    learning_rate   | 2.75e-05 |\n",
      "|    n_updates       | 46891    |\n",
      "|    reward          | 0.0      |\n",
      "---------------------------------\n",
      "day: 1957, episode: 60\n",
      "begin_total_asset: 1000000.00\n",
      "end_total_asset: 1000000.00\n",
      "total_reward: 0.00\n",
      "total_cost: 0.00\n",
      "total_trades: 0\n",
      "=================================\n"
     ]
    },
    {
     "name": "stderr",
     "output_type": "stream",
     "text": [
      "[I 2025-03-21 20:54:08,774] Trial 0 finished with value: 0.0 and parameters: {'buffer_size': 100000, 'learning_rate': 2.7535512350160737e-05, 'batch_size': 128}. Best is trial 0 with value: 0.0.\n"
     ]
    },
    {
     "name": "stdout",
     "output_type": "stream",
     "text": [
      "hit end!\n",
      "                       date  account_value\n",
      "0 2025-02-14 00:00:00+00:00      1000000.0\n",
      "1 2025-02-14 00:15:00+00:00      1000000.0\n",
      "2 2025-02-14 00:30:00+00:00      1000000.0\n",
      "3 2025-02-14 00:45:00+00:00      1000000.0\n",
      "4 2025-02-14 01:00:00+00:00      1000000.0\n",
      "date             datetime64[ns, UTC]\n",
      "account_value                float64\n",
      "dtype: object\n",
      "{'buffer_size': 10000, 'learning_rate': 0.000760606179290715, 'batch_size': 256}\n",
      "Using cpu device\n"
     ]
    },
    {
     "name": "stderr",
     "output_type": "stream",
     "text": [
      "/var/folders/kx/hqt1dvlj7_b21v_g8477jmnr0000gn/T/ipykernel_96293/2632089047.py:4: FutureWarning: suggest_loguniform has been deprecated in v3.0.0. This feature will be removed in v6.0.0. See https://github.com/optuna/optuna/releases/tag/v3.0.0. Use suggest_float(..., log=True) instead.\n",
      "  learning_rate = trial.suggest_loguniform(\"learning_rate\", 1e-5, 1e-2) #trial.suggest_loguniform(name, low, high)\n"
     ]
    },
    {
     "name": "stdout",
     "output_type": "stream",
     "text": [
      "---------------------------------\n",
      "| time/              |          |\n",
      "|    episodes        | 4        |\n",
      "|    fps             | 262      |\n",
      "|    time_elapsed    | 29       |\n",
      "|    total_timesteps | 7832     |\n",
      "| train/             |          |\n",
      "|    actor_loss      | -142     |\n",
      "|    critic_loss     | 3.16e+04 |\n",
      "|    learning_rate   | 0.000761 |\n",
      "|    n_updates       | 7731     |\n",
      "|    reward          | 0.0      |\n",
      "---------------------------------\n",
      "---------------------------------\n",
      "| time/              |          |\n",
      "|    episodes        | 8        |\n",
      "|    fps             | 262      |\n",
      "|    time_elapsed    | 59       |\n",
      "|    total_timesteps | 15664    |\n",
      "| train/             |          |\n",
      "|    actor_loss      | 113      |\n",
      "|    critic_loss     | 46.2     |\n",
      "|    learning_rate   | 0.000761 |\n",
      "|    n_updates       | 15563    |\n",
      "|    reward          | 0.0      |\n",
      "---------------------------------\n",
      "day: 1957, episode: 70\n",
      "begin_total_asset: 1000000.00\n",
      "end_total_asset: 1057258.44\n",
      "total_reward: 57258.44\n",
      "total_cost: 998.98\n",
      "total_trades: 1957\n",
      "Sharpe: 0.303\n",
      "=================================\n",
      "---------------------------------\n",
      "| time/              |          |\n",
      "|    episodes        | 12       |\n",
      "|    fps             | 264      |\n",
      "|    time_elapsed    | 88       |\n",
      "|    total_timesteps | 23496    |\n",
      "| train/             |          |\n",
      "|    actor_loss      | -0.98    |\n",
      "|    critic_loss     | 68.3     |\n",
      "|    learning_rate   | 0.000761 |\n",
      "|    n_updates       | 23395    |\n",
      "|    reward          | 0.0      |\n",
      "---------------------------------\n",
      "---------------------------------\n",
      "| time/              |          |\n",
      "|    episodes        | 16       |\n",
      "|    fps             | 264      |\n",
      "|    time_elapsed    | 118      |\n",
      "|    total_timesteps | 31328    |\n",
      "| train/             |          |\n",
      "|    actor_loss      | 4.21     |\n",
      "|    critic_loss     | 0.562    |\n",
      "|    learning_rate   | 0.000761 |\n",
      "|    n_updates       | 31227    |\n",
      "|    reward          | 0.0      |\n",
      "---------------------------------\n",
      "day: 1957, episode: 80\n",
      "begin_total_asset: 1000000.00\n",
      "end_total_asset: 1057258.44\n",
      "total_reward: 57258.44\n",
      "total_cost: 998.98\n",
      "total_trades: 1957\n",
      "Sharpe: 0.303\n",
      "=================================\n",
      "---------------------------------\n",
      "| time/              |          |\n",
      "|    episodes        | 20       |\n",
      "|    fps             | 264      |\n",
      "|    time_elapsed    | 147      |\n",
      "|    total_timesteps | 39160    |\n",
      "| train/             |          |\n",
      "|    actor_loss      | 16.1     |\n",
      "|    critic_loss     | 0.0336   |\n",
      "|    learning_rate   | 0.000761 |\n",
      "|    n_updates       | 39059    |\n",
      "|    reward          | 0.0      |\n",
      "---------------------------------\n",
      "---------------------------------\n",
      "| time/              |          |\n",
      "|    episodes        | 24       |\n",
      "|    fps             | 265      |\n",
      "|    time_elapsed    | 177      |\n",
      "|    total_timesteps | 46992    |\n",
      "| train/             |          |\n",
      "|    actor_loss      | 23.8     |\n",
      "|    critic_loss     | 0.104    |\n",
      "|    learning_rate   | 0.000761 |\n",
      "|    n_updates       | 46891    |\n",
      "|    reward          | 0.0      |\n",
      "---------------------------------\n"
     ]
    },
    {
     "name": "stderr",
     "output_type": "stream",
     "text": [
      "[I 2025-03-21 20:57:17,787] Trial 1 finished with value: -0.01113211411560059 and parameters: {'buffer_size': 10000, 'learning_rate': 0.000760606179290715, 'batch_size': 256}. Best is trial 0 with value: 0.0.\n"
     ]
    },
    {
     "name": "stdout",
     "output_type": "stream",
     "text": [
      "hit end!\n",
      "                       date   account_value\n",
      "0 2025-02-14 00:00:00+00:00  1000000.000000\n",
      "1 2025-02-14 00:15:00+00:00   999975.848000\n",
      "2 2025-02-14 00:30:00+00:00   999951.695999\n",
      "3 2025-02-14 00:45:00+00:00   999927.543999\n",
      "4 2025-02-14 01:00:00+00:00   999903.391998\n",
      "date             datetime64[ns, UTC]\n",
      "account_value                float64\n",
      "dtype: object\n",
      "{'buffer_size': 10000, 'learning_rate': 0.0005456622587597506, 'batch_size': 64}\n",
      "Using cpu device\n"
     ]
    },
    {
     "name": "stderr",
     "output_type": "stream",
     "text": [
      "/var/folders/kx/hqt1dvlj7_b21v_g8477jmnr0000gn/T/ipykernel_96293/2632089047.py:4: FutureWarning: suggest_loguniform has been deprecated in v3.0.0. This feature will be removed in v6.0.0. See https://github.com/optuna/optuna/releases/tag/v3.0.0. Use suggest_float(..., log=True) instead.\n",
      "  learning_rate = trial.suggest_loguniform(\"learning_rate\", 1e-5, 1e-2) #trial.suggest_loguniform(name, low, high)\n"
     ]
    },
    {
     "name": "stdout",
     "output_type": "stream",
     "text": [
      "day: 1957, episode: 90\n",
      "begin_total_asset: 1000000.00\n",
      "end_total_asset: 1000000.00\n",
      "total_reward: 0.00\n",
      "total_cost: 0.00\n",
      "total_trades: 0\n",
      "=================================\n",
      "---------------------------------\n",
      "| time/              |          |\n",
      "|    episodes        | 4        |\n",
      "|    fps             | 373      |\n",
      "|    time_elapsed    | 20       |\n",
      "|    total_timesteps | 7832     |\n",
      "| train/             |          |\n",
      "|    actor_loss      | 2.04e+04 |\n",
      "|    critic_loss     | 6.64e+03 |\n",
      "|    learning_rate   | 0.000546 |\n",
      "|    n_updates       | 7731     |\n",
      "|    reward          | 0.0      |\n",
      "---------------------------------\n",
      "---------------------------------\n",
      "| time/              |          |\n",
      "|    episodes        | 8        |\n",
      "|    fps             | 372      |\n",
      "|    time_elapsed    | 42       |\n",
      "|    total_timesteps | 15664    |\n",
      "| train/             |          |\n",
      "|    actor_loss      | 1.36e+04 |\n",
      "|    critic_loss     | 17.3     |\n",
      "|    learning_rate   | 0.000546 |\n",
      "|    n_updates       | 15563    |\n",
      "|    reward          | 0.0      |\n",
      "---------------------------------\n",
      "---------------------------------\n",
      "| time/              |          |\n",
      "|    episodes        | 12       |\n",
      "|    fps             | 364      |\n",
      "|    time_elapsed    | 64       |\n",
      "|    total_timesteps | 23496    |\n",
      "| train/             |          |\n",
      "|    actor_loss      | 9.1e+03  |\n",
      "|    critic_loss     | 3.54e+04 |\n",
      "|    learning_rate   | 0.000546 |\n",
      "|    n_updates       | 23395    |\n",
      "|    reward          | 0.0      |\n",
      "---------------------------------\n",
      "day: 1957, episode: 100\n",
      "begin_total_asset: 1000000.00\n",
      "end_total_asset: 1000000.00\n",
      "total_reward: 0.00\n",
      "total_cost: 0.00\n",
      "total_trades: 0\n",
      "=================================\n",
      "---------------------------------\n",
      "| time/              |          |\n",
      "|    episodes        | 16       |\n",
      "|    fps             | 360      |\n",
      "|    time_elapsed    | 86       |\n",
      "|    total_timesteps | 31328    |\n",
      "| train/             |          |\n",
      "|    actor_loss      | 5.91e+03 |\n",
      "|    critic_loss     | 420      |\n",
      "|    learning_rate   | 0.000546 |\n",
      "|    n_updates       | 31227    |\n",
      "|    reward          | 0.0      |\n",
      "---------------------------------\n",
      "---------------------------------\n",
      "| time/              |          |\n",
      "|    episodes        | 20       |\n",
      "|    fps             | 354      |\n",
      "|    time_elapsed    | 110      |\n",
      "|    total_timesteps | 39160    |\n",
      "| train/             |          |\n",
      "|    actor_loss      | 3.85e+03 |\n",
      "|    critic_loss     | 15.3     |\n",
      "|    learning_rate   | 0.000546 |\n",
      "|    n_updates       | 39059    |\n",
      "|    reward          | 0.0      |\n",
      "---------------------------------\n",
      "day: 1957, episode: 110\n",
      "begin_total_asset: 1000000.00\n",
      "end_total_asset: 1000000.00\n",
      "total_reward: 0.00\n",
      "total_cost: 0.00\n",
      "total_trades: 0\n",
      "=================================\n",
      "---------------------------------\n",
      "| time/              |          |\n",
      "|    episodes        | 24       |\n",
      "|    fps             | 353      |\n",
      "|    time_elapsed    | 132      |\n",
      "|    total_timesteps | 46992    |\n",
      "| train/             |          |\n",
      "|    actor_loss      | 2.52e+03 |\n",
      "|    critic_loss     | 47.4     |\n",
      "|    learning_rate   | 0.000546 |\n",
      "|    n_updates       | 46891    |\n",
      "|    reward          | 0.0      |\n",
      "---------------------------------\n"
     ]
    },
    {
     "name": "stderr",
     "output_type": "stream",
     "text": [
      "[I 2025-03-21 20:59:39,525] Trial 2 finished with value: 0.0 and parameters: {'buffer_size': 10000, 'learning_rate': 0.0005456622587597506, 'batch_size': 64}. Best is trial 0 with value: 0.0.\n"
     ]
    },
    {
     "name": "stdout",
     "output_type": "stream",
     "text": [
      "hit end!\n",
      "                       date  account_value\n",
      "0 2025-02-14 00:00:00+00:00      1000000.0\n",
      "1 2025-02-14 00:15:00+00:00      1000000.0\n",
      "2 2025-02-14 00:30:00+00:00      1000000.0\n",
      "3 2025-02-14 00:45:00+00:00      1000000.0\n",
      "4 2025-02-14 01:00:00+00:00      1000000.0\n",
      "date             datetime64[ns, UTC]\n",
      "account_value                float64\n",
      "dtype: object\n",
      "{'buffer_size': 100000, 'learning_rate': 0.0003163489794844886, 'batch_size': 32}\n",
      "Using cpu device\n"
     ]
    },
    {
     "name": "stderr",
     "output_type": "stream",
     "text": [
      "/var/folders/kx/hqt1dvlj7_b21v_g8477jmnr0000gn/T/ipykernel_96293/2632089047.py:4: FutureWarning: suggest_loguniform has been deprecated in v3.0.0. This feature will be removed in v6.0.0. See https://github.com/optuna/optuna/releases/tag/v3.0.0. Use suggest_float(..., log=True) instead.\n",
      "  learning_rate = trial.suggest_loguniform(\"learning_rate\", 1e-5, 1e-2) #trial.suggest_loguniform(name, low, high)\n"
     ]
    },
    {
     "name": "stdout",
     "output_type": "stream",
     "text": [
      "---------------------------------\n",
      "| time/              |          |\n",
      "|    episodes        | 4        |\n",
      "|    fps             | 413      |\n",
      "|    time_elapsed    | 18       |\n",
      "|    total_timesteps | 7832     |\n",
      "| train/             |          |\n",
      "|    actor_loss      | 3.69e+04 |\n",
      "|    critic_loss     | 2.71e+03 |\n",
      "|    learning_rate   | 0.000316 |\n",
      "|    n_updates       | 7731     |\n",
      "|    reward          | 0.0      |\n",
      "---------------------------------\n",
      "day: 1957, episode: 120\n",
      "begin_total_asset: 1000000.00\n",
      "end_total_asset: 1000000.00\n",
      "total_reward: 0.00\n",
      "total_cost: 0.00\n",
      "total_trades: 0\n",
      "=================================\n",
      "---------------------------------\n",
      "| time/              |          |\n",
      "|    episodes        | 8        |\n",
      "|    fps             | 414      |\n",
      "|    time_elapsed    | 37       |\n",
      "|    total_timesteps | 15664    |\n",
      "| train/             |          |\n",
      "|    actor_loss      | 2.44e+04 |\n",
      "|    critic_loss     | 132      |\n",
      "|    learning_rate   | 0.000316 |\n",
      "|    n_updates       | 15563    |\n",
      "|    reward          | 0.0      |\n",
      "---------------------------------\n",
      "---------------------------------\n",
      "| time/              |          |\n",
      "|    episodes        | 12       |\n",
      "|    fps             | 417      |\n",
      "|    time_elapsed    | 56       |\n",
      "|    total_timesteps | 23496    |\n",
      "| train/             |          |\n",
      "|    actor_loss      | 1.61e+04 |\n",
      "|    critic_loss     | 72       |\n",
      "|    learning_rate   | 0.000316 |\n",
      "|    n_updates       | 23395    |\n",
      "|    reward          | 0.0      |\n",
      "---------------------------------\n",
      "---------------------------------\n",
      "| time/              |          |\n",
      "|    episodes        | 16       |\n",
      "|    fps             | 419      |\n",
      "|    time_elapsed    | 74       |\n",
      "|    total_timesteps | 31328    |\n",
      "| train/             |          |\n",
      "|    actor_loss      | 1.1e+04  |\n",
      "|    critic_loss     | 1.12e+03 |\n",
      "|    learning_rate   | 0.000316 |\n",
      "|    n_updates       | 31227    |\n",
      "|    reward          | 0.0      |\n",
      "---------------------------------\n",
      "day: 1957, episode: 130\n",
      "begin_total_asset: 1000000.00\n",
      "end_total_asset: 1000000.00\n",
      "total_reward: 0.00\n",
      "total_cost: 0.00\n",
      "total_trades: 0\n",
      "=================================\n",
      "---------------------------------\n",
      "| time/              |          |\n",
      "|    episodes        | 20       |\n",
      "|    fps             | 419      |\n",
      "|    time_elapsed    | 93       |\n",
      "|    total_timesteps | 39160    |\n",
      "| train/             |          |\n",
      "|    actor_loss      | 7.2e+03  |\n",
      "|    critic_loss     | 8.69     |\n",
      "|    learning_rate   | 0.000316 |\n",
      "|    n_updates       | 39059    |\n",
      "|    reward          | 0.0      |\n",
      "---------------------------------\n",
      "---------------------------------\n",
      "| time/              |          |\n",
      "|    episodes        | 24       |\n",
      "|    fps             | 420      |\n",
      "|    time_elapsed    | 111      |\n",
      "|    total_timesteps | 46992    |\n",
      "| train/             |          |\n",
      "|    actor_loss      | 4.7e+03  |\n",
      "|    critic_loss     | 458      |\n",
      "|    learning_rate   | 0.000316 |\n",
      "|    n_updates       | 46891    |\n",
      "|    reward          | 0.0      |\n",
      "---------------------------------\n"
     ]
    },
    {
     "name": "stderr",
     "output_type": "stream",
     "text": [
      "[I 2025-03-21 21:01:39,129] Trial 3 finished with value: 0.0 and parameters: {'buffer_size': 100000, 'learning_rate': 0.0003163489794844886, 'batch_size': 32}. Best is trial 0 with value: 0.0.\n"
     ]
    },
    {
     "name": "stdout",
     "output_type": "stream",
     "text": [
      "hit end!\n",
      "                       date  account_value\n",
      "0 2025-02-14 00:00:00+00:00      1000000.0\n",
      "1 2025-02-14 00:15:00+00:00      1000000.0\n",
      "2 2025-02-14 00:30:00+00:00      1000000.0\n",
      "3 2025-02-14 00:45:00+00:00      1000000.0\n",
      "4 2025-02-14 01:00:00+00:00      1000000.0\n",
      "date             datetime64[ns, UTC]\n",
      "account_value                float64\n",
      "dtype: object\n",
      "{'buffer_size': 10000, 'learning_rate': 0.0022368034339122996, 'batch_size': 32}\n",
      "Using cpu device\n"
     ]
    },
    {
     "name": "stderr",
     "output_type": "stream",
     "text": [
      "/var/folders/kx/hqt1dvlj7_b21v_g8477jmnr0000gn/T/ipykernel_96293/2632089047.py:4: FutureWarning: suggest_loguniform has been deprecated in v3.0.0. This feature will be removed in v6.0.0. See https://github.com/optuna/optuna/releases/tag/v3.0.0. Use suggest_float(..., log=True) instead.\n",
      "  learning_rate = trial.suggest_loguniform(\"learning_rate\", 1e-5, 1e-2) #trial.suggest_loguniform(name, low, high)\n"
     ]
    },
    {
     "name": "stdout",
     "output_type": "stream",
     "text": [
      "day: 1957, episode: 140\n",
      "begin_total_asset: 1000000.00\n",
      "end_total_asset: 997982.39\n",
      "total_reward: -2017.61\n",
      "total_cost: 1278.71\n",
      "total_trades: 104\n",
      "Sharpe: -0.339\n",
      "=================================\n",
      "----------------------------------\n",
      "| time/              |           |\n",
      "|    episodes        | 4         |\n",
      "|    fps             | 420       |\n",
      "|    time_elapsed    | 18        |\n",
      "|    total_timesteps | 7832      |\n",
      "| train/             |           |\n",
      "|    actor_loss      | -1.32e+04 |\n",
      "|    critic_loss     | 31.5      |\n",
      "|    learning_rate   | 0.00224   |\n",
      "|    n_updates       | 7731      |\n",
      "|    reward          | 0.0       |\n",
      "----------------------------------\n",
      "----------------------------------\n",
      "| time/              |           |\n",
      "|    episodes        | 8         |\n",
      "|    fps             | 417       |\n",
      "|    time_elapsed    | 37        |\n",
      "|    total_timesteps | 15664     |\n",
      "| train/             |           |\n",
      "|    actor_loss      | -9.51e+03 |\n",
      "|    critic_loss     | 0.529     |\n",
      "|    learning_rate   | 0.00224   |\n",
      "|    n_updates       | 15563     |\n",
      "|    reward          | 0.0       |\n",
      "----------------------------------\n",
      "day: 1957, episode: 150\n",
      "begin_total_asset: 1000000.00\n",
      "end_total_asset: 1000000.00\n",
      "total_reward: 0.00\n",
      "total_cost: 0.00\n",
      "total_trades: 0\n",
      "=================================\n",
      "----------------------------------\n",
      "| time/              |           |\n",
      "|    episodes        | 12        |\n",
      "|    fps             | 416       |\n",
      "|    time_elapsed    | 56        |\n",
      "|    total_timesteps | 23496     |\n",
      "| train/             |           |\n",
      "|    actor_loss      | -8.87e+03 |\n",
      "|    critic_loss     | 2.74e+03  |\n",
      "|    learning_rate   | 0.00224   |\n",
      "|    n_updates       | 23395     |\n",
      "|    reward          | 0.0       |\n",
      "----------------------------------\n",
      "----------------------------------\n",
      "| time/              |           |\n",
      "|    episodes        | 16        |\n",
      "|    fps             | 415       |\n",
      "|    time_elapsed    | 75        |\n",
      "|    total_timesteps | 31328     |\n",
      "| train/             |           |\n",
      "|    actor_loss      | -5.46e+03 |\n",
      "|    critic_loss     | 6.55e+03  |\n",
      "|    learning_rate   | 0.00224   |\n",
      "|    n_updates       | 31227     |\n",
      "|    reward          | 0.0       |\n",
      "----------------------------------\n",
      "----------------------------------\n",
      "| time/              |           |\n",
      "|    episodes        | 20        |\n",
      "|    fps             | 413       |\n",
      "|    time_elapsed    | 94        |\n",
      "|    total_timesteps | 39160     |\n",
      "| train/             |           |\n",
      "|    actor_loss      | -3.56e+03 |\n",
      "|    critic_loss     | 523       |\n",
      "|    learning_rate   | 0.00224   |\n",
      "|    n_updates       | 39059     |\n",
      "|    reward          | 0.0       |\n",
      "----------------------------------\n",
      "day: 1957, episode: 160\n",
      "begin_total_asset: 1000000.00\n",
      "end_total_asset: 1000000.00\n",
      "total_reward: 0.00\n",
      "total_cost: 0.00\n",
      "total_trades: 0\n",
      "=================================\n",
      "----------------------------------\n",
      "| time/              |           |\n",
      "|    episodes        | 24        |\n",
      "|    fps             | 145       |\n",
      "|    time_elapsed    | 322       |\n",
      "|    total_timesteps | 46992     |\n",
      "| train/             |           |\n",
      "|    actor_loss      | -2.34e+03 |\n",
      "|    critic_loss     | 162       |\n",
      "|    learning_rate   | 0.00224   |\n",
      "|    n_updates       | 46891     |\n",
      "|    reward          | 0.0       |\n",
      "----------------------------------\n"
     ]
    },
    {
     "name": "stderr",
     "output_type": "stream",
     "text": [
      "[I 2025-03-21 21:07:08,874] Trial 4 finished with value: 0.0 and parameters: {'buffer_size': 10000, 'learning_rate': 0.0022368034339122996, 'batch_size': 32}. Best is trial 0 with value: 0.0.\n"
     ]
    },
    {
     "name": "stdout",
     "output_type": "stream",
     "text": [
      "hit end!\n",
      "                       date  account_value\n",
      "0 2025-02-14 00:00:00+00:00      1000000.0\n",
      "1 2025-02-14 00:15:00+00:00      1000000.0\n",
      "2 2025-02-14 00:30:00+00:00      1000000.0\n",
      "3 2025-02-14 00:45:00+00:00      1000000.0\n",
      "4 2025-02-14 01:00:00+00:00      1000000.0\n",
      "date             datetime64[ns, UTC]\n",
      "account_value                float64\n",
      "dtype: object\n",
      "{'buffer_size': 100000, 'learning_rate': 0.0008836346803158797, 'batch_size': 512}\n",
      "Using cpu device\n"
     ]
    },
    {
     "name": "stderr",
     "output_type": "stream",
     "text": [
      "/var/folders/kx/hqt1dvlj7_b21v_g8477jmnr0000gn/T/ipykernel_96293/2632089047.py:4: FutureWarning: suggest_loguniform has been deprecated in v3.0.0. This feature will be removed in v6.0.0. See https://github.com/optuna/optuna/releases/tag/v3.0.0. Use suggest_float(..., log=True) instead.\n",
      "  learning_rate = trial.suggest_loguniform(\"learning_rate\", 1e-5, 1e-2) #trial.suggest_loguniform(name, low, high)\n"
     ]
    },
    {
     "name": "stdout",
     "output_type": "stream",
     "text": [
      "---------------------------------\n",
      "| time/              |          |\n",
      "|    episodes        | 4        |\n",
      "|    fps             | 173      |\n",
      "|    time_elapsed    | 45       |\n",
      "|    total_timesteps | 7832     |\n",
      "| train/             |          |\n",
      "|    actor_loss      | 1.97e+04 |\n",
      "|    critic_loss     | 1.27e+04 |\n",
      "|    learning_rate   | 0.000884 |\n",
      "|    n_updates       | 7731     |\n",
      "|    reward          | 0.0      |\n",
      "---------------------------------\n",
      "day: 1957, episode: 170\n",
      "begin_total_asset: 1000000.00\n",
      "end_total_asset: 1000000.00\n",
      "total_reward: 0.00\n",
      "total_cost: 0.00\n",
      "total_trades: 0\n",
      "=================================\n",
      "---------------------------------\n",
      "| time/              |          |\n",
      "|    episodes        | 8        |\n",
      "|    fps             | 175      |\n",
      "|    time_elapsed    | 89       |\n",
      "|    total_timesteps | 15664    |\n",
      "| train/             |          |\n",
      "|    actor_loss      | 1.31e+04 |\n",
      "|    critic_loss     | 154      |\n",
      "|    learning_rate   | 0.000884 |\n",
      "|    n_updates       | 15563    |\n",
      "|    reward          | 0.0      |\n",
      "---------------------------------\n",
      "---------------------------------\n",
      "| time/              |          |\n",
      "|    episodes        | 12       |\n",
      "|    fps             | 178      |\n",
      "|    time_elapsed    | 131      |\n",
      "|    total_timesteps | 23496    |\n",
      "| train/             |          |\n",
      "|    actor_loss      | 7.96e+03 |\n",
      "|    critic_loss     | 428      |\n",
      "|    learning_rate   | 0.000884 |\n",
      "|    n_updates       | 23395    |\n",
      "|    reward          | 0.0      |\n",
      "---------------------------------\n",
      "day: 1957, episode: 180\n",
      "begin_total_asset: 1000000.00\n",
      "end_total_asset: 1000000.00\n",
      "total_reward: 0.00\n",
      "total_cost: 0.00\n",
      "total_trades: 0\n",
      "=================================\n",
      "---------------------------------\n",
      "| time/              |          |\n",
      "|    episodes        | 16       |\n",
      "|    fps             | 178      |\n",
      "|    time_elapsed    | 175      |\n",
      "|    total_timesteps | 31328    |\n",
      "| train/             |          |\n",
      "|    actor_loss      | 5.31e+03 |\n",
      "|    critic_loss     | 97       |\n",
      "|    learning_rate   | 0.000884 |\n",
      "|    n_updates       | 31227    |\n",
      "|    reward          | 0.0      |\n",
      "---------------------------------\n",
      "---------------------------------\n",
      "| time/              |          |\n",
      "|    episodes        | 20       |\n",
      "|    fps             | 180      |\n",
      "|    time_elapsed    | 217      |\n",
      "|    total_timesteps | 39160    |\n",
      "| train/             |          |\n",
      "|    actor_loss      | 3.47e+03 |\n",
      "|    critic_loss     | 2.39e+04 |\n",
      "|    learning_rate   | 0.000884 |\n",
      "|    n_updates       | 39059    |\n",
      "|    reward          | 0.0      |\n",
      "---------------------------------\n",
      "---------------------------------\n",
      "| time/              |          |\n",
      "|    episodes        | 24       |\n",
      "|    fps             | 180      |\n",
      "|    time_elapsed    | 259      |\n",
      "|    total_timesteps | 46992    |\n",
      "| train/             |          |\n",
      "|    actor_loss      | 2.3e+03  |\n",
      "|    critic_loss     | 131      |\n",
      "|    learning_rate   | 0.000884 |\n",
      "|    n_updates       | 46891    |\n",
      "|    reward          | 0.0      |\n",
      "---------------------------------\n",
      "day: 1957, episode: 190\n",
      "begin_total_asset: 1000000.00\n",
      "end_total_asset: 1000000.00\n",
      "total_reward: 0.00\n",
      "total_cost: 0.00\n",
      "total_trades: 0\n",
      "=================================\n"
     ]
    },
    {
     "name": "stderr",
     "output_type": "stream",
     "text": [
      "[I 2025-03-21 21:11:45,697] Trial 5 finished with value: 0.0 and parameters: {'buffer_size': 100000, 'learning_rate': 0.0008836346803158797, 'batch_size': 512}. Best is trial 0 with value: 0.0.\n"
     ]
    },
    {
     "name": "stdout",
     "output_type": "stream",
     "text": [
      "day: 2099, episode: 20\n",
      "begin_total_asset: 1000000.00\n",
      "end_total_asset: 1000000.00\n",
      "total_reward: 0.00\n",
      "total_cost: 0.00\n",
      "total_trades: 0\n",
      "=================================\n",
      "hit end!\n",
      "                       date  account_value\n",
      "0 2025-02-14 00:00:00+00:00      1000000.0\n",
      "1 2025-02-14 00:15:00+00:00      1000000.0\n",
      "2 2025-02-14 00:30:00+00:00      1000000.0\n",
      "3 2025-02-14 00:45:00+00:00      1000000.0\n",
      "4 2025-02-14 01:00:00+00:00      1000000.0\n",
      "date             datetime64[ns, UTC]\n",
      "account_value                float64\n",
      "dtype: object\n",
      "{'buffer_size': 1000000, 'learning_rate': 8.922021426287885e-05, 'batch_size': 64}\n",
      "Using cpu device\n"
     ]
    },
    {
     "name": "stderr",
     "output_type": "stream",
     "text": [
      "/var/folders/kx/hqt1dvlj7_b21v_g8477jmnr0000gn/T/ipykernel_96293/2632089047.py:4: FutureWarning: suggest_loguniform has been deprecated in v3.0.0. This feature will be removed in v6.0.0. See https://github.com/optuna/optuna/releases/tag/v3.0.0. Use suggest_float(..., log=True) instead.\n",
      "  learning_rate = trial.suggest_loguniform(\"learning_rate\", 1e-5, 1e-2) #trial.suggest_loguniform(name, low, high)\n"
     ]
    },
    {
     "name": "stdout",
     "output_type": "stream",
     "text": [
      "---------------------------------\n",
      "| time/              |          |\n",
      "|    episodes        | 4        |\n",
      "|    fps             | 361      |\n",
      "|    time_elapsed    | 21       |\n",
      "|    total_timesteps | 7832     |\n",
      "| train/             |          |\n",
      "|    actor_loss      | 117      |\n",
      "|    critic_loss     | 8.16e+03 |\n",
      "|    learning_rate   | 8.92e-05 |\n",
      "|    n_updates       | 7731     |\n",
      "|    reward          | 0.0      |\n",
      "---------------------------------\n",
      "---------------------------------\n",
      "| time/              |          |\n",
      "|    episodes        | 8        |\n",
      "|    fps             | 363      |\n",
      "|    time_elapsed    | 43       |\n",
      "|    total_timesteps | 15664    |\n",
      "| train/             |          |\n",
      "|    actor_loss      | 77.7     |\n",
      "|    critic_loss     | 145      |\n",
      "|    learning_rate   | 8.92e-05 |\n",
      "|    n_updates       | 15563    |\n",
      "|    reward          | 0.0      |\n",
      "---------------------------------\n",
      "day: 1957, episode: 200\n",
      "begin_total_asset: 1000000.00\n",
      "end_total_asset: 1057258.44\n",
      "total_reward: 57258.44\n",
      "total_cost: 998.98\n",
      "total_trades: 1957\n",
      "Sharpe: 0.303\n",
      "=================================\n",
      "---------------------------------\n",
      "| time/              |          |\n",
      "|    episodes        | 12       |\n",
      "|    fps             | 363      |\n",
      "|    time_elapsed    | 64       |\n",
      "|    total_timesteps | 23496    |\n",
      "| train/             |          |\n",
      "|    actor_loss      | 41.2     |\n",
      "|    critic_loss     | 22.8     |\n",
      "|    learning_rate   | 8.92e-05 |\n",
      "|    n_updates       | 23395    |\n",
      "|    reward          | 0.0      |\n",
      "---------------------------------\n",
      "---------------------------------\n",
      "| time/              |          |\n",
      "|    episodes        | 16       |\n",
      "|    fps             | 362      |\n",
      "|    time_elapsed    | 86       |\n",
      "|    total_timesteps | 31328    |\n",
      "| train/             |          |\n",
      "|    actor_loss      | 28.7     |\n",
      "|    critic_loss     | 0.092    |\n",
      "|    learning_rate   | 8.92e-05 |\n",
      "|    n_updates       | 31227    |\n",
      "|    reward          | 0.0      |\n",
      "---------------------------------\n",
      "day: 1957, episode: 210\n",
      "begin_total_asset: 1000000.00\n",
      "end_total_asset: 1057258.44\n",
      "total_reward: 57258.44\n",
      "total_cost: 998.98\n",
      "total_trades: 1957\n",
      "Sharpe: 0.303\n",
      "=================================\n",
      "---------------------------------\n",
      "| time/              |          |\n",
      "|    episodes        | 20       |\n",
      "|    fps             | 361      |\n",
      "|    time_elapsed    | 108      |\n",
      "|    total_timesteps | 39160    |\n",
      "| train/             |          |\n",
      "|    actor_loss      | 2.44     |\n",
      "|    critic_loss     | 27.9     |\n",
      "|    learning_rate   | 8.92e-05 |\n",
      "|    n_updates       | 39059    |\n",
      "|    reward          | 0.0      |\n",
      "---------------------------------\n",
      "---------------------------------\n",
      "| time/              |          |\n",
      "|    episodes        | 24       |\n",
      "|    fps             | 360      |\n",
      "|    time_elapsed    | 130      |\n",
      "|    total_timesteps | 46992    |\n",
      "| train/             |          |\n",
      "|    actor_loss      | 2.43     |\n",
      "|    critic_loss     | 5.67     |\n",
      "|    learning_rate   | 8.92e-05 |\n",
      "|    n_updates       | 46891    |\n",
      "|    reward          | 0.0      |\n",
      "---------------------------------\n"
     ]
    },
    {
     "name": "stderr",
     "output_type": "stream",
     "text": [
      "[I 2025-03-21 21:14:04,980] Trial 6 finished with value: -0.01113211411560059 and parameters: {'buffer_size': 1000000, 'learning_rate': 8.922021426287885e-05, 'batch_size': 64}. Best is trial 0 with value: 0.0.\n"
     ]
    },
    {
     "name": "stdout",
     "output_type": "stream",
     "text": [
      "hit end!\n",
      "                       date   account_value\n",
      "0 2025-02-14 00:00:00+00:00  1000000.000000\n",
      "1 2025-02-14 00:15:00+00:00   999975.848000\n",
      "2 2025-02-14 00:30:00+00:00   999951.695999\n",
      "3 2025-02-14 00:45:00+00:00   999927.543999\n",
      "4 2025-02-14 01:00:00+00:00   999903.391998\n",
      "date             datetime64[ns, UTC]\n",
      "account_value                float64\n",
      "dtype: object\n",
      "{'buffer_size': 1000000, 'learning_rate': 6.952777257537394e-05, 'batch_size': 256}\n",
      "Using cpu device\n"
     ]
    },
    {
     "name": "stderr",
     "output_type": "stream",
     "text": [
      "/var/folders/kx/hqt1dvlj7_b21v_g8477jmnr0000gn/T/ipykernel_96293/2632089047.py:4: FutureWarning: suggest_loguniform has been deprecated in v3.0.0. This feature will be removed in v6.0.0. See https://github.com/optuna/optuna/releases/tag/v3.0.0. Use suggest_float(..., log=True) instead.\n",
      "  learning_rate = trial.suggest_loguniform(\"learning_rate\", 1e-5, 1e-2) #trial.suggest_loguniform(name, low, high)\n"
     ]
    },
    {
     "name": "stdout",
     "output_type": "stream",
     "text": [
      "day: 1957, episode: 220\n",
      "begin_total_asset: 1000000.00\n",
      "end_total_asset: 1057258.44\n",
      "total_reward: 57258.44\n",
      "total_cost: 998.98\n",
      "total_trades: 1957\n",
      "Sharpe: 0.303\n",
      "=================================\n",
      "---------------------------------\n",
      "| time/              |          |\n",
      "|    episodes        | 4        |\n",
      "|    fps             | 256      |\n",
      "|    time_elapsed    | 30       |\n",
      "|    total_timesteps | 7832     |\n",
      "| train/             |          |\n",
      "|    actor_loss      | -66.3    |\n",
      "|    critic_loss     | 49.5     |\n",
      "|    learning_rate   | 6.95e-05 |\n",
      "|    n_updates       | 7731     |\n",
      "|    reward          | 0.0      |\n",
      "---------------------------------\n",
      "---------------------------------\n",
      "| time/              |          |\n",
      "|    episodes        | 8        |\n",
      "|    fps             | 247      |\n",
      "|    time_elapsed    | 63       |\n",
      "|    total_timesteps | 15664    |\n",
      "| train/             |          |\n",
      "|    actor_loss      | -39.5    |\n",
      "|    critic_loss     | 41.9     |\n",
      "|    learning_rate   | 6.95e-05 |\n",
      "|    n_updates       | 15563    |\n",
      "|    reward          | 0.0      |\n",
      "---------------------------------\n",
      "---------------------------------\n",
      "| time/              |          |\n",
      "|    episodes        | 12       |\n",
      "|    fps             | 248      |\n",
      "|    time_elapsed    | 94       |\n",
      "|    total_timesteps | 23496    |\n",
      "| train/             |          |\n",
      "|    actor_loss      | -20.2    |\n",
      "|    critic_loss     | 2.37e+03 |\n",
      "|    learning_rate   | 6.95e-05 |\n",
      "|    n_updates       | 23395    |\n",
      "|    reward          | 0.0      |\n",
      "---------------------------------\n",
      "day: 1957, episode: 230\n",
      "begin_total_asset: 1000000.00\n",
      "end_total_asset: 1057258.44\n",
      "total_reward: 57258.44\n",
      "total_cost: 998.98\n",
      "total_trades: 1957\n",
      "Sharpe: 0.303\n",
      "=================================\n",
      "---------------------------------\n",
      "| time/              |          |\n",
      "|    episodes        | 16       |\n",
      "|    fps             | 248      |\n",
      "|    time_elapsed    | 126      |\n",
      "|    total_timesteps | 31328    |\n",
      "| train/             |          |\n",
      "|    actor_loss      | -16.2    |\n",
      "|    critic_loss     | 7.95     |\n",
      "|    learning_rate   | 6.95e-05 |\n",
      "|    n_updates       | 31227    |\n",
      "|    reward          | 0.0      |\n",
      "---------------------------------\n",
      "---------------------------------\n",
      "| time/              |          |\n",
      "|    episodes        | 20       |\n",
      "|    fps             | 248      |\n",
      "|    time_elapsed    | 157      |\n",
      "|    total_timesteps | 39160    |\n",
      "| train/             |          |\n",
      "|    actor_loss      | -8.54    |\n",
      "|    critic_loss     | 1.46     |\n",
      "|    learning_rate   | 6.95e-05 |\n",
      "|    n_updates       | 39059    |\n",
      "|    reward          | 0.0      |\n",
      "---------------------------------\n",
      "day: 1957, episode: 240\n",
      "begin_total_asset: 1000000.00\n",
      "end_total_asset: 1057258.44\n",
      "total_reward: 57258.44\n",
      "total_cost: 998.98\n",
      "total_trades: 1957\n",
      "Sharpe: 0.303\n",
      "=================================\n",
      "---------------------------------\n",
      "| time/              |          |\n",
      "|    episodes        | 24       |\n",
      "|    fps             | 249      |\n",
      "|    time_elapsed    | 188      |\n",
      "|    total_timesteps | 46992    |\n",
      "| train/             |          |\n",
      "|    actor_loss      | -7.84    |\n",
      "|    critic_loss     | 5.98     |\n",
      "|    learning_rate   | 6.95e-05 |\n",
      "|    n_updates       | 46891    |\n",
      "|    reward          | 0.0      |\n",
      "---------------------------------\n"
     ]
    },
    {
     "name": "stderr",
     "output_type": "stream",
     "text": [
      "[I 2025-03-21 21:17:25,396] Trial 7 finished with value: -0.01113211411560059 and parameters: {'buffer_size': 1000000, 'learning_rate': 6.952777257537394e-05, 'batch_size': 256}. Best is trial 0 with value: 0.0.\n"
     ]
    },
    {
     "name": "stdout",
     "output_type": "stream",
     "text": [
      "hit end!\n",
      "                       date   account_value\n",
      "0 2025-02-14 00:00:00+00:00  1000000.000000\n",
      "1 2025-02-14 00:15:00+00:00   999975.848000\n",
      "2 2025-02-14 00:30:00+00:00   999951.695999\n",
      "3 2025-02-14 00:45:00+00:00   999927.543999\n",
      "4 2025-02-14 01:00:00+00:00   999903.391998\n",
      "date             datetime64[ns, UTC]\n",
      "account_value                float64\n",
      "dtype: object\n",
      "{'buffer_size': 100000, 'learning_rate': 0.00024792676554726646, 'batch_size': 512}\n",
      "Using cpu device\n"
     ]
    },
    {
     "name": "stderr",
     "output_type": "stream",
     "text": [
      "/var/folders/kx/hqt1dvlj7_b21v_g8477jmnr0000gn/T/ipykernel_96293/2632089047.py:4: FutureWarning: suggest_loguniform has been deprecated in v3.0.0. This feature will be removed in v6.0.0. See https://github.com/optuna/optuna/releases/tag/v3.0.0. Use suggest_float(..., log=True) instead.\n",
      "  learning_rate = trial.suggest_loguniform(\"learning_rate\", 1e-5, 1e-2) #trial.suggest_loguniform(name, low, high)\n"
     ]
    },
    {
     "name": "stdout",
     "output_type": "stream",
     "text": [
      "-----------------------------------\n",
      "| time/              |            |\n",
      "|    episodes        | 4          |\n",
      "|    fps             | 189        |\n",
      "|    time_elapsed    | 41         |\n",
      "|    total_timesteps | 7832       |\n",
      "| train/             |            |\n",
      "|    actor_loss      | -201       |\n",
      "|    critic_loss     | 2.81e+03   |\n",
      "|    learning_rate   | 0.000248   |\n",
      "|    n_updates       | 7731       |\n",
      "|    reward          | -0.0023689 |\n",
      "-----------------------------------\n",
      "day: 1957, episode: 250\n",
      "begin_total_asset: 1000000.00\n",
      "end_total_asset: 1011093.60\n",
      "total_reward: 11093.60\n",
      "total_cost: 45118.90\n",
      "total_trades: 1957\n",
      "Sharpe: 0.071\n",
      "=================================\n",
      "-----------------------------------\n",
      "| time/              |            |\n",
      "|    episodes        | 8          |\n",
      "|    fps             | 186        |\n",
      "|    time_elapsed    | 83         |\n",
      "|    total_timesteps | 15664      |\n",
      "| train/             |            |\n",
      "|    actor_loss      | -57        |\n",
      "|    critic_loss     | 1.1e+03    |\n",
      "|    learning_rate   | 0.000248   |\n",
      "|    n_updates       | 15563      |\n",
      "|    reward          | -0.0023689 |\n",
      "-----------------------------------\n",
      "-----------------------------------\n",
      "| time/              |            |\n",
      "|    episodes        | 12         |\n",
      "|    fps             | 183        |\n",
      "|    time_elapsed    | 128        |\n",
      "|    total_timesteps | 23496      |\n",
      "| train/             |            |\n",
      "|    actor_loss      | -40.5      |\n",
      "|    critic_loss     | 4.43       |\n",
      "|    learning_rate   | 0.000248   |\n",
      "|    n_updates       | 23395      |\n",
      "|    reward          | -0.0023689 |\n",
      "-----------------------------------\n",
      "-----------------------------------\n",
      "| time/              |            |\n",
      "|    episodes        | 16         |\n",
      "|    fps             | 85         |\n",
      "|    time_elapsed    | 367        |\n",
      "|    total_timesteps | 31328      |\n",
      "| train/             |            |\n",
      "|    actor_loss      | -54.7      |\n",
      "|    critic_loss     | 5.17       |\n",
      "|    learning_rate   | 0.000248   |\n",
      "|    n_updates       | 31227      |\n",
      "|    reward          | -0.0023689 |\n",
      "-----------------------------------\n",
      "day: 1957, episode: 260\n",
      "begin_total_asset: 1000000.00\n",
      "end_total_asset: 1011093.60\n",
      "total_reward: 11093.60\n",
      "total_cost: 45118.90\n",
      "total_trades: 1957\n",
      "Sharpe: 0.071\n",
      "=================================\n",
      "-----------------------------------\n",
      "| time/              |            |\n",
      "|    episodes        | 20         |\n",
      "|    fps             | 95         |\n",
      "|    time_elapsed    | 408        |\n",
      "|    total_timesteps | 39160      |\n",
      "| train/             |            |\n",
      "|    actor_loss      | -55.1      |\n",
      "|    critic_loss     | 1.58       |\n",
      "|    learning_rate   | 0.000248   |\n",
      "|    n_updates       | 39059      |\n",
      "|    reward          | -0.0023689 |\n",
      "-----------------------------------\n",
      "-----------------------------------\n",
      "| time/              |            |\n",
      "|    episodes        | 24         |\n",
      "|    fps             | 104        |\n",
      "|    time_elapsed    | 449        |\n",
      "|    total_timesteps | 46992      |\n",
      "| train/             |            |\n",
      "|    actor_loss      | -42.3      |\n",
      "|    critic_loss     | 0.795      |\n",
      "|    learning_rate   | 0.000248   |\n",
      "|    n_updates       | 46891      |\n",
      "|    reward          | -0.0023689 |\n",
      "-----------------------------------\n"
     ]
    },
    {
     "name": "stderr",
     "output_type": "stream",
     "text": [
      "[I 2025-03-21 21:25:11,614] Trial 8 finished with value: -0.05985695391402882 and parameters: {'buffer_size': 100000, 'learning_rate': 0.00024792676554726646, 'batch_size': 512}. Best is trial 0 with value: 0.0.\n"
     ]
    },
    {
     "name": "stdout",
     "output_type": "stream",
     "text": [
      "hit end!\n",
      "                       date   account_value\n",
      "0 2025-02-14 00:00:00+00:00  1000000.000000\n",
      "1 2025-02-14 00:15:00+00:00   999975.848000\n",
      "2 2025-02-14 00:30:00+00:00   999951.695999\n",
      "3 2025-02-14 00:45:00+00:00   999927.543999\n",
      "4 2025-02-14 01:00:00+00:00   999903.391998\n",
      "date             datetime64[ns, UTC]\n",
      "account_value                float64\n",
      "dtype: object\n",
      "{'buffer_size': 1000000, 'learning_rate': 0.0002379449250830646, 'batch_size': 32}\n",
      "Using cpu device\n"
     ]
    },
    {
     "name": "stderr",
     "output_type": "stream",
     "text": [
      "/var/folders/kx/hqt1dvlj7_b21v_g8477jmnr0000gn/T/ipykernel_96293/2632089047.py:4: FutureWarning: suggest_loguniform has been deprecated in v3.0.0. This feature will be removed in v6.0.0. See https://github.com/optuna/optuna/releases/tag/v3.0.0. Use suggest_float(..., log=True) instead.\n",
      "  learning_rate = trial.suggest_loguniform(\"learning_rate\", 1e-5, 1e-2) #trial.suggest_loguniform(name, low, high)\n"
     ]
    },
    {
     "name": "stdout",
     "output_type": "stream",
     "text": [
      "day: 1957, episode: 270\n",
      "begin_total_asset: 1000000.00\n",
      "end_total_asset: 998018.71\n",
      "total_reward: -1981.29\n",
      "total_cost: 1093.69\n",
      "total_trades: 98\n",
      "Sharpe: -0.584\n",
      "=================================\n",
      "----------------------------------\n",
      "| time/              |           |\n",
      "|    episodes        | 4         |\n",
      "|    fps             | 445       |\n",
      "|    time_elapsed    | 17        |\n",
      "|    total_timesteps | 7832      |\n",
      "| train/             |           |\n",
      "|    actor_loss      | -1.62e+04 |\n",
      "|    critic_loss     | 8.3e+05   |\n",
      "|    learning_rate   | 0.000238  |\n",
      "|    n_updates       | 7731      |\n",
      "|    reward          | 0.0       |\n",
      "----------------------------------\n",
      "----------------------------------\n",
      "| time/              |           |\n",
      "|    episodes        | 8         |\n",
      "|    fps             | 441       |\n",
      "|    time_elapsed    | 35        |\n",
      "|    total_timesteps | 15664     |\n",
      "| train/             |           |\n",
      "|    actor_loss      | -1.06e+04 |\n",
      "|    critic_loss     | 1.91e+03  |\n",
      "|    learning_rate   | 0.000238  |\n",
      "|    n_updates       | 15563     |\n",
      "|    reward          | 0.0       |\n",
      "----------------------------------\n",
      "day: 1957, episode: 280\n",
      "begin_total_asset: 1000000.00\n",
      "end_total_asset: 1000000.00\n",
      "total_reward: 0.00\n",
      "total_cost: 0.00\n",
      "total_trades: 0\n",
      "=================================\n",
      "----------------------------------\n",
      "| time/              |           |\n",
      "|    episodes        | 12        |\n",
      "|    fps             | 440       |\n",
      "|    time_elapsed    | 53        |\n",
      "|    total_timesteps | 23496     |\n",
      "| train/             |           |\n",
      "|    actor_loss      | -6.89e+03 |\n",
      "|    critic_loss     | 1.74e+03  |\n",
      "|    learning_rate   | 0.000238  |\n",
      "|    n_updates       | 23395     |\n",
      "|    reward          | 0.0       |\n",
      "----------------------------------\n",
      "----------------------------------\n",
      "| time/              |           |\n",
      "|    episodes        | 16        |\n",
      "|    fps             | 439       |\n",
      "|    time_elapsed    | 71        |\n",
      "|    total_timesteps | 31328     |\n",
      "| train/             |           |\n",
      "|    actor_loss      | -4.24e+03 |\n",
      "|    critic_loss     | 1.87e+04  |\n",
      "|    learning_rate   | 0.000238  |\n",
      "|    n_updates       | 31227     |\n",
      "|    reward          | 0.0       |\n",
      "----------------------------------\n",
      "----------------------------------\n",
      "| time/              |           |\n",
      "|    episodes        | 20        |\n",
      "|    fps             | 51        |\n",
      "|    time_elapsed    | 759       |\n",
      "|    total_timesteps | 39160     |\n",
      "| train/             |           |\n",
      "|    actor_loss      | -3.02e+03 |\n",
      "|    critic_loss     | 1.09      |\n",
      "|    learning_rate   | 0.000238  |\n",
      "|    n_updates       | 39059     |\n",
      "|    reward          | 0.0       |\n",
      "----------------------------------\n",
      "day: 1957, episode: 290\n",
      "begin_total_asset: 1000000.00\n",
      "end_total_asset: 1000000.00\n",
      "total_reward: 0.00\n",
      "total_cost: 0.00\n",
      "total_trades: 0\n",
      "=================================\n",
      "----------------------------------\n",
      "| time/              |           |\n",
      "|    episodes        | 24        |\n",
      "|    fps             | 27        |\n",
      "|    time_elapsed    | 1707      |\n",
      "|    total_timesteps | 46992     |\n",
      "| train/             |           |\n",
      "|    actor_loss      | -1.88e+03 |\n",
      "|    critic_loss     | 127       |\n",
      "|    learning_rate   | 0.000238  |\n",
      "|    n_updates       | 46891     |\n",
      "|    reward          | 0.0       |\n",
      "----------------------------------\n"
     ]
    },
    {
     "name": "stderr",
     "output_type": "stream",
     "text": [
      "[I 2025-03-21 21:53:46,201] Trial 9 finished with value: 0.0 and parameters: {'buffer_size': 1000000, 'learning_rate': 0.0002379449250830646, 'batch_size': 32}. Best is trial 0 with value: 0.0.\n"
     ]
    },
    {
     "name": "stdout",
     "output_type": "stream",
     "text": [
      "hit end!\n",
      "                       date  account_value\n",
      "0 2025-02-14 00:00:00+00:00      1000000.0\n",
      "1 2025-02-14 00:15:00+00:00      1000000.0\n",
      "2 2025-02-14 00:30:00+00:00      1000000.0\n",
      "3 2025-02-14 00:45:00+00:00      1000000.0\n",
      "4 2025-02-14 01:00:00+00:00      1000000.0\n",
      "date             datetime64[ns, UTC]\n",
      "account_value                float64\n",
      "dtype: object\n"
     ]
    }
   ],
   "source": [
    "study = optuna.create_study(direction=\"maximize\")\n",
    "study.optimize(objective, n_trials=10) # more trials will be better"
   ]
  },
  {
   "cell_type": "code",
   "execution_count": null,
   "metadata": {},
   "outputs": [
    {
     "name": "stdout",
     "output_type": "stream",
     "text": [
      "Best hyperparameters: {'buffer_size': 100000, 'learning_rate': 2.7535512350160737e-05, 'batch_size': 128}\n",
      "{'buffer_size': 100000, 'learning_rate': 2.7535512350160737e-05, 'batch_size': 128}\n",
      "Using cpu device\n",
      "---------------------------------\n",
      "| time/              |          |\n",
      "|    episodes        | 4        |\n",
      "|    fps             | 347      |\n",
      "|    time_elapsed    | 22       |\n",
      "|    total_timesteps | 7832     |\n",
      "| train/             |          |\n",
      "|    actor_loss      | -865     |\n",
      "|    critic_loss     | 2.02e+06 |\n",
      "|    learning_rate   | 2.75e-05 |\n",
      "|    n_updates       | 7731     |\n",
      "|    reward          | 0.0      |\n",
      "---------------------------------\n",
      "day: 1957, episode: 70\n",
      "begin_total_asset: 1000000.00\n",
      "end_total_asset: 1057258.44\n",
      "total_reward: 57258.44\n",
      "total_cost: 998.98\n",
      "total_trades: 1957\n",
      "Sharpe: 0.303\n",
      "=================================\n",
      "----------------------------------\n",
      "| time/              |           |\n",
      "|    episodes        | 8         |\n",
      "|    fps             | 344       |\n",
      "|    time_elapsed    | 45        |\n",
      "|    total_timesteps | 15664     |\n",
      "| train/             |           |\n",
      "|    actor_loss      | -1.89e+03 |\n",
      "|    critic_loss     | 9.42e+05  |\n",
      "|    learning_rate   | 2.75e-05  |\n",
      "|    n_updates       | 15563     |\n",
      "|    reward          | 0.0       |\n",
      "----------------------------------\n",
      "----------------------------------\n",
      "| time/              |           |\n",
      "|    episodes        | 12        |\n",
      "|    fps             | 343       |\n",
      "|    time_elapsed    | 68        |\n",
      "|    total_timesteps | 23496     |\n",
      "| train/             |           |\n",
      "|    actor_loss      | -2.16e+03 |\n",
      "|    critic_loss     | 6.15e+06  |\n",
      "|    learning_rate   | 2.75e-05  |\n",
      "|    n_updates       | 23395     |\n",
      "|    reward          | 0.0       |\n",
      "----------------------------------\n",
      "day: 1957, episode: 80\n",
      "begin_total_asset: 1000000.00\n",
      "end_total_asset: 1057258.44\n",
      "total_reward: 57258.44\n",
      "total_cost: 998.98\n",
      "total_trades: 1957\n",
      "Sharpe: 0.303\n",
      "=================================\n",
      "---------------------------------\n",
      "| time/              |          |\n",
      "|    episodes        | 16       |\n",
      "|    fps             | 342      |\n",
      "|    time_elapsed    | 91       |\n",
      "|    total_timesteps | 31328    |\n",
      "| train/             |          |\n",
      "|    actor_loss      | -2.4e+03 |\n",
      "|    critic_loss     | 7.81e+05 |\n",
      "|    learning_rate   | 2.75e-05 |\n",
      "|    n_updates       | 31227    |\n",
      "|    reward          | 0.0      |\n",
      "---------------------------------\n",
      "----------------------------------\n",
      "| time/              |           |\n",
      "|    episodes        | 20        |\n",
      "|    fps             | 341       |\n",
      "|    time_elapsed    | 114       |\n",
      "|    total_timesteps | 39160     |\n",
      "| train/             |           |\n",
      "|    actor_loss      | -2.51e+03 |\n",
      "|    critic_loss     | 2.04e+06  |\n",
      "|    learning_rate   | 2.75e-05  |\n",
      "|    n_updates       | 39059     |\n",
      "|    reward          | 0.0       |\n",
      "----------------------------------\n",
      "----------------------------------\n",
      "| time/              |           |\n",
      "|    episodes        | 24        |\n",
      "|    fps             | 341       |\n",
      "|    time_elapsed    | 137       |\n",
      "|    total_timesteps | 46992     |\n",
      "| train/             |           |\n",
      "|    actor_loss      | -2.56e+03 |\n",
      "|    critic_loss     | 1.46e+06  |\n",
      "|    learning_rate   | 2.75e-05  |\n",
      "|    n_updates       | 46891     |\n",
      "|    reward          | 0.0       |\n",
      "----------------------------------\n",
      "day: 1957, episode: 90\n",
      "begin_total_asset: 1000000.00\n",
      "end_total_asset: 1057258.44\n",
      "total_reward: 57258.44\n",
      "total_cost: 998.98\n",
      "total_trades: 1957\n",
      "Sharpe: 0.303\n",
      "=================================\n"
     ]
    }
   ],
   "source": [
    "best_params = study.best_params\n",
    "print(\"Best hyperparameters:\", best_params)\n",
    "trained_ddpg = agent.get_model(\"ddpg\", model_kwargs=best_params)\n",
    "trained_ddpg = agent.train_model(model=trained_ddpg, tb_log_name=\"ddpg\", total_timesteps=50000)"
   ]
  },
  {
   "cell_type": "code",
   "execution_count": null,
   "metadata": {},
   "outputs": [
    {
     "data": {
      "application/vnd.plotly.v1+json": {
       "config": {
        "plotlyServerURL": "https://plot.ly"
       },
       "data": [
        {
         "cliponaxis": false,
         "hovertemplate": [
          "buffer_size (CategoricalDistribution): 0.07390289009878286<extra></extra>",
          "learning_rate (FloatDistribution): 0.2872953066836256<extra></extra>",
          "batch_size (CategoricalDistribution): 0.6388018032175916<extra></extra>"
         ],
         "name": "Objective Value",
         "orientation": "h",
         "text": [
          "0.07",
          "0.29",
          "0.64"
         ],
         "textposition": "outside",
         "type": "bar",
         "x": [
          0.07390289009878286,
          0.2872953066836256,
          0.6388018032175916
         ],
         "y": [
          "buffer_size",
          "learning_rate",
          "batch_size"
         ]
        }
       ],
       "layout": {
        "template": {
         "data": {
          "bar": [
           {
            "error_x": {
             "color": "#2a3f5f"
            },
            "error_y": {
             "color": "#2a3f5f"
            },
            "marker": {
             "line": {
              "color": "#E5ECF6",
              "width": 0.5
             },
             "pattern": {
              "fillmode": "overlay",
              "size": 10,
              "solidity": 0.2
             }
            },
            "type": "bar"
           }
          ],
          "barpolar": [
           {
            "marker": {
             "line": {
              "color": "#E5ECF6",
              "width": 0.5
             },
             "pattern": {
              "fillmode": "overlay",
              "size": 10,
              "solidity": 0.2
             }
            },
            "type": "barpolar"
           }
          ],
          "carpet": [
           {
            "aaxis": {
             "endlinecolor": "#2a3f5f",
             "gridcolor": "white",
             "linecolor": "white",
             "minorgridcolor": "white",
             "startlinecolor": "#2a3f5f"
            },
            "baxis": {
             "endlinecolor": "#2a3f5f",
             "gridcolor": "white",
             "linecolor": "white",
             "minorgridcolor": "white",
             "startlinecolor": "#2a3f5f"
            },
            "type": "carpet"
           }
          ],
          "choropleth": [
           {
            "colorbar": {
             "outlinewidth": 0,
             "ticks": ""
            },
            "type": "choropleth"
           }
          ],
          "contour": [
           {
            "colorbar": {
             "outlinewidth": 0,
             "ticks": ""
            },
            "colorscale": [
             [
              0,
              "#0d0887"
             ],
             [
              0.1111111111111111,
              "#46039f"
             ],
             [
              0.2222222222222222,
              "#7201a8"
             ],
             [
              0.3333333333333333,
              "#9c179e"
             ],
             [
              0.4444444444444444,
              "#bd3786"
             ],
             [
              0.5555555555555556,
              "#d8576b"
             ],
             [
              0.6666666666666666,
              "#ed7953"
             ],
             [
              0.7777777777777778,
              "#fb9f3a"
             ],
             [
              0.8888888888888888,
              "#fdca26"
             ],
             [
              1,
              "#f0f921"
             ]
            ],
            "type": "contour"
           }
          ],
          "contourcarpet": [
           {
            "colorbar": {
             "outlinewidth": 0,
             "ticks": ""
            },
            "type": "contourcarpet"
           }
          ],
          "heatmap": [
           {
            "colorbar": {
             "outlinewidth": 0,
             "ticks": ""
            },
            "colorscale": [
             [
              0,
              "#0d0887"
             ],
             [
              0.1111111111111111,
              "#46039f"
             ],
             [
              0.2222222222222222,
              "#7201a8"
             ],
             [
              0.3333333333333333,
              "#9c179e"
             ],
             [
              0.4444444444444444,
              "#bd3786"
             ],
             [
              0.5555555555555556,
              "#d8576b"
             ],
             [
              0.6666666666666666,
              "#ed7953"
             ],
             [
              0.7777777777777778,
              "#fb9f3a"
             ],
             [
              0.8888888888888888,
              "#fdca26"
             ],
             [
              1,
              "#f0f921"
             ]
            ],
            "type": "heatmap"
           }
          ],
          "heatmapgl": [
           {
            "colorbar": {
             "outlinewidth": 0,
             "ticks": ""
            },
            "colorscale": [
             [
              0,
              "#0d0887"
             ],
             [
              0.1111111111111111,
              "#46039f"
             ],
             [
              0.2222222222222222,
              "#7201a8"
             ],
             [
              0.3333333333333333,
              "#9c179e"
             ],
             [
              0.4444444444444444,
              "#bd3786"
             ],
             [
              0.5555555555555556,
              "#d8576b"
             ],
             [
              0.6666666666666666,
              "#ed7953"
             ],
             [
              0.7777777777777778,
              "#fb9f3a"
             ],
             [
              0.8888888888888888,
              "#fdca26"
             ],
             [
              1,
              "#f0f921"
             ]
            ],
            "type": "heatmapgl"
           }
          ],
          "histogram": [
           {
            "marker": {
             "pattern": {
              "fillmode": "overlay",
              "size": 10,
              "solidity": 0.2
             }
            },
            "type": "histogram"
           }
          ],
          "histogram2d": [
           {
            "colorbar": {
             "outlinewidth": 0,
             "ticks": ""
            },
            "colorscale": [
             [
              0,
              "#0d0887"
             ],
             [
              0.1111111111111111,
              "#46039f"
             ],
             [
              0.2222222222222222,
              "#7201a8"
             ],
             [
              0.3333333333333333,
              "#9c179e"
             ],
             [
              0.4444444444444444,
              "#bd3786"
             ],
             [
              0.5555555555555556,
              "#d8576b"
             ],
             [
              0.6666666666666666,
              "#ed7953"
             ],
             [
              0.7777777777777778,
              "#fb9f3a"
             ],
             [
              0.8888888888888888,
              "#fdca26"
             ],
             [
              1,
              "#f0f921"
             ]
            ],
            "type": "histogram2d"
           }
          ],
          "histogram2dcontour": [
           {
            "colorbar": {
             "outlinewidth": 0,
             "ticks": ""
            },
            "colorscale": [
             [
              0,
              "#0d0887"
             ],
             [
              0.1111111111111111,
              "#46039f"
             ],
             [
              0.2222222222222222,
              "#7201a8"
             ],
             [
              0.3333333333333333,
              "#9c179e"
             ],
             [
              0.4444444444444444,
              "#bd3786"
             ],
             [
              0.5555555555555556,
              "#d8576b"
             ],
             [
              0.6666666666666666,
              "#ed7953"
             ],
             [
              0.7777777777777778,
              "#fb9f3a"
             ],
             [
              0.8888888888888888,
              "#fdca26"
             ],
             [
              1,
              "#f0f921"
             ]
            ],
            "type": "histogram2dcontour"
           }
          ],
          "mesh3d": [
           {
            "colorbar": {
             "outlinewidth": 0,
             "ticks": ""
            },
            "type": "mesh3d"
           }
          ],
          "parcoords": [
           {
            "line": {
             "colorbar": {
              "outlinewidth": 0,
              "ticks": ""
             }
            },
            "type": "parcoords"
           }
          ],
          "pie": [
           {
            "automargin": true,
            "type": "pie"
           }
          ],
          "scatter": [
           {
            "fillpattern": {
             "fillmode": "overlay",
             "size": 10,
             "solidity": 0.2
            },
            "type": "scatter"
           }
          ],
          "scatter3d": [
           {
            "line": {
             "colorbar": {
              "outlinewidth": 0,
              "ticks": ""
             }
            },
            "marker": {
             "colorbar": {
              "outlinewidth": 0,
              "ticks": ""
             }
            },
            "type": "scatter3d"
           }
          ],
          "scattercarpet": [
           {
            "marker": {
             "colorbar": {
              "outlinewidth": 0,
              "ticks": ""
             }
            },
            "type": "scattercarpet"
           }
          ],
          "scattergeo": [
           {
            "marker": {
             "colorbar": {
              "outlinewidth": 0,
              "ticks": ""
             }
            },
            "type": "scattergeo"
           }
          ],
          "scattergl": [
           {
            "marker": {
             "colorbar": {
              "outlinewidth": 0,
              "ticks": ""
             }
            },
            "type": "scattergl"
           }
          ],
          "scattermapbox": [
           {
            "marker": {
             "colorbar": {
              "outlinewidth": 0,
              "ticks": ""
             }
            },
            "type": "scattermapbox"
           }
          ],
          "scatterpolar": [
           {
            "marker": {
             "colorbar": {
              "outlinewidth": 0,
              "ticks": ""
             }
            },
            "type": "scatterpolar"
           }
          ],
          "scatterpolargl": [
           {
            "marker": {
             "colorbar": {
              "outlinewidth": 0,
              "ticks": ""
             }
            },
            "type": "scatterpolargl"
           }
          ],
          "scatterternary": [
           {
            "marker": {
             "colorbar": {
              "outlinewidth": 0,
              "ticks": ""
             }
            },
            "type": "scatterternary"
           }
          ],
          "surface": [
           {
            "colorbar": {
             "outlinewidth": 0,
             "ticks": ""
            },
            "colorscale": [
             [
              0,
              "#0d0887"
             ],
             [
              0.1111111111111111,
              "#46039f"
             ],
             [
              0.2222222222222222,
              "#7201a8"
             ],
             [
              0.3333333333333333,
              "#9c179e"
             ],
             [
              0.4444444444444444,
              "#bd3786"
             ],
             [
              0.5555555555555556,
              "#d8576b"
             ],
             [
              0.6666666666666666,
              "#ed7953"
             ],
             [
              0.7777777777777778,
              "#fb9f3a"
             ],
             [
              0.8888888888888888,
              "#fdca26"
             ],
             [
              1,
              "#f0f921"
             ]
            ],
            "type": "surface"
           }
          ],
          "table": [
           {
            "cells": {
             "fill": {
              "color": "#EBF0F8"
             },
             "line": {
              "color": "white"
             }
            },
            "header": {
             "fill": {
              "color": "#C8D4E3"
             },
             "line": {
              "color": "white"
             }
            },
            "type": "table"
           }
          ]
         },
         "layout": {
          "annotationdefaults": {
           "arrowcolor": "#2a3f5f",
           "arrowhead": 0,
           "arrowwidth": 1
          },
          "autotypenumbers": "strict",
          "coloraxis": {
           "colorbar": {
            "outlinewidth": 0,
            "ticks": ""
           }
          },
          "colorscale": {
           "diverging": [
            [
             0,
             "#8e0152"
            ],
            [
             0.1,
             "#c51b7d"
            ],
            [
             0.2,
             "#de77ae"
            ],
            [
             0.3,
             "#f1b6da"
            ],
            [
             0.4,
             "#fde0ef"
            ],
            [
             0.5,
             "#f7f7f7"
            ],
            [
             0.6,
             "#e6f5d0"
            ],
            [
             0.7,
             "#b8e186"
            ],
            [
             0.8,
             "#7fbc41"
            ],
            [
             0.9,
             "#4d9221"
            ],
            [
             1,
             "#276419"
            ]
           ],
           "sequential": [
            [
             0,
             "#0d0887"
            ],
            [
             0.1111111111111111,
             "#46039f"
            ],
            [
             0.2222222222222222,
             "#7201a8"
            ],
            [
             0.3333333333333333,
             "#9c179e"
            ],
            [
             0.4444444444444444,
             "#bd3786"
            ],
            [
             0.5555555555555556,
             "#d8576b"
            ],
            [
             0.6666666666666666,
             "#ed7953"
            ],
            [
             0.7777777777777778,
             "#fb9f3a"
            ],
            [
             0.8888888888888888,
             "#fdca26"
            ],
            [
             1,
             "#f0f921"
            ]
           ],
           "sequentialminus": [
            [
             0,
             "#0d0887"
            ],
            [
             0.1111111111111111,
             "#46039f"
            ],
            [
             0.2222222222222222,
             "#7201a8"
            ],
            [
             0.3333333333333333,
             "#9c179e"
            ],
            [
             0.4444444444444444,
             "#bd3786"
            ],
            [
             0.5555555555555556,
             "#d8576b"
            ],
            [
             0.6666666666666666,
             "#ed7953"
            ],
            [
             0.7777777777777778,
             "#fb9f3a"
            ],
            [
             0.8888888888888888,
             "#fdca26"
            ],
            [
             1,
             "#f0f921"
            ]
           ]
          },
          "colorway": [
           "#636efa",
           "#EF553B",
           "#00cc96",
           "#ab63fa",
           "#FFA15A",
           "#19d3f3",
           "#FF6692",
           "#B6E880",
           "#FF97FF",
           "#FECB52"
          ],
          "font": {
           "color": "#2a3f5f"
          },
          "geo": {
           "bgcolor": "white",
           "lakecolor": "white",
           "landcolor": "#E5ECF6",
           "showlakes": true,
           "showland": true,
           "subunitcolor": "white"
          },
          "hoverlabel": {
           "align": "left"
          },
          "hovermode": "closest",
          "mapbox": {
           "style": "light"
          },
          "paper_bgcolor": "white",
          "plot_bgcolor": "#E5ECF6",
          "polar": {
           "angularaxis": {
            "gridcolor": "white",
            "linecolor": "white",
            "ticks": ""
           },
           "bgcolor": "#E5ECF6",
           "radialaxis": {
            "gridcolor": "white",
            "linecolor": "white",
            "ticks": ""
           }
          },
          "scene": {
           "xaxis": {
            "backgroundcolor": "#E5ECF6",
            "gridcolor": "white",
            "gridwidth": 2,
            "linecolor": "white",
            "showbackground": true,
            "ticks": "",
            "zerolinecolor": "white"
           },
           "yaxis": {
            "backgroundcolor": "#E5ECF6",
            "gridcolor": "white",
            "gridwidth": 2,
            "linecolor": "white",
            "showbackground": true,
            "ticks": "",
            "zerolinecolor": "white"
           },
           "zaxis": {
            "backgroundcolor": "#E5ECF6",
            "gridcolor": "white",
            "gridwidth": 2,
            "linecolor": "white",
            "showbackground": true,
            "ticks": "",
            "zerolinecolor": "white"
           }
          },
          "shapedefaults": {
           "line": {
            "color": "#2a3f5f"
           }
          },
          "ternary": {
           "aaxis": {
            "gridcolor": "white",
            "linecolor": "white",
            "ticks": ""
           },
           "baxis": {
            "gridcolor": "white",
            "linecolor": "white",
            "ticks": ""
           },
           "bgcolor": "#E5ECF6",
           "caxis": {
            "gridcolor": "white",
            "linecolor": "white",
            "ticks": ""
           }
          },
          "title": {
           "x": 0.05
          },
          "xaxis": {
           "automargin": true,
           "gridcolor": "white",
           "linecolor": "white",
           "ticks": "",
           "title": {
            "standoff": 15
           },
           "zerolinecolor": "white",
           "zerolinewidth": 2
          },
          "yaxis": {
           "automargin": true,
           "gridcolor": "white",
           "linecolor": "white",
           "ticks": "",
           "title": {
            "standoff": 15
           },
           "zerolinecolor": "white",
           "zerolinewidth": 2
          }
         }
        },
        "title": {
         "text": "Hyperparameter Importances"
        },
        "xaxis": {
         "title": {
          "text": "Hyperparameter Importance"
         }
        },
        "yaxis": {
         "title": {
          "text": "Hyperparameter"
         }
        }
       }
      }
     },
     "metadata": {},
     "output_type": "display_data"
    }
   ],
   "source": [
    "from optuna.visualization import plot_optimization_history, plot_param_importances\n",
    "plot_optimization_history(study)\n",
    "plot_param_importances(study)"
   ]
  }
 ],
 "metadata": {
  "kernelspec": {
   "display_name": "base",
   "language": "python",
   "name": "python3"
  },
  "language_info": {
   "codemirror_mode": {
    "name": "ipython",
    "version": 3
   },
   "file_extension": ".py",
   "mimetype": "text/x-python",
   "name": "python",
   "nbconvert_exporter": "python",
   "pygments_lexer": "ipython3",
   "version": "3.11.7"
  }
 },
 "nbformat": 4,
 "nbformat_minor": 2
}
